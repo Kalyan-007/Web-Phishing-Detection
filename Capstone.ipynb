{
 "cells": [
  {
   "cell_type": "code",
   "execution_count": 38,
   "id": "deb2316d",
   "metadata": {},
   "outputs": [],
   "source": [
    "import numpy as np\n",
    "import pandas as pd\n",
    "from sklearn import preprocessing\n",
    "import keras\n",
    "from sklearn.model_selection import train_test_split as tts\n",
    "from sklearn.metrics import accuracy_score as AS\n",
    "from sklearn.metrics import classification_report as CR\n",
    "from sklearn.metrics import confusion_matrix as CM\n",
    "from os import path"
   ]
  },
  {
   "cell_type": "markdown",
   "id": "ffa1cd6a",
   "metadata": {},
   "source": [
    "## Step 1: Data Preprocessing"
   ]
  },
  {
   "cell_type": "code",
   "execution_count": 23,
   "id": "37184a24",
   "metadata": {},
   "outputs": [
    {
     "data": {
      "text/html": [
       "<div>\n",
       "<style scoped>\n",
       "    .dataframe tbody tr th:only-of-type {\n",
       "        vertical-align: middle;\n",
       "    }\n",
       "\n",
       "    .dataframe tbody tr th {\n",
       "        vertical-align: top;\n",
       "    }\n",
       "\n",
       "    .dataframe thead th {\n",
       "        text-align: right;\n",
       "    }\n",
       "</style>\n",
       "<table border=\"1\" class=\"dataframe\">\n",
       "  <thead>\n",
       "    <tr style=\"text-align: right;\">\n",
       "      <th></th>\n",
       "      <th>having_IP_Address</th>\n",
       "      <th>URL_Length</th>\n",
       "      <th>Shortining_Service</th>\n",
       "      <th>having_At_Symbol</th>\n",
       "      <th>double_slash_redirecting</th>\n",
       "      <th>Prefix_Suffix</th>\n",
       "      <th>having_Sub_Domain</th>\n",
       "      <th>SSLfinal_State</th>\n",
       "      <th>Domain_registeration_length</th>\n",
       "      <th>Favicon</th>\n",
       "      <th>...</th>\n",
       "      <th>popUpWidnow</th>\n",
       "      <th>Iframe</th>\n",
       "      <th>age_of_domain</th>\n",
       "      <th>DNSRecord</th>\n",
       "      <th>web_traffic</th>\n",
       "      <th>Page_Rank</th>\n",
       "      <th>Google_Index</th>\n",
       "      <th>Links_pointing_to_page</th>\n",
       "      <th>Statistical_report</th>\n",
       "      <th>Result</th>\n",
       "    </tr>\n",
       "  </thead>\n",
       "  <tbody>\n",
       "    <tr>\n",
       "      <th>0</th>\n",
       "      <td>-1</td>\n",
       "      <td>1</td>\n",
       "      <td>1</td>\n",
       "      <td>1</td>\n",
       "      <td>-1</td>\n",
       "      <td>-1</td>\n",
       "      <td>-1</td>\n",
       "      <td>-1</td>\n",
       "      <td>-1</td>\n",
       "      <td>1</td>\n",
       "      <td>...</td>\n",
       "      <td>1</td>\n",
       "      <td>1</td>\n",
       "      <td>-1</td>\n",
       "      <td>-1</td>\n",
       "      <td>-1</td>\n",
       "      <td>-1</td>\n",
       "      <td>1</td>\n",
       "      <td>1</td>\n",
       "      <td>-1</td>\n",
       "      <td>-1</td>\n",
       "    </tr>\n",
       "    <tr>\n",
       "      <th>1</th>\n",
       "      <td>1</td>\n",
       "      <td>1</td>\n",
       "      <td>1</td>\n",
       "      <td>1</td>\n",
       "      <td>1</td>\n",
       "      <td>-1</td>\n",
       "      <td>0</td>\n",
       "      <td>1</td>\n",
       "      <td>-1</td>\n",
       "      <td>1</td>\n",
       "      <td>...</td>\n",
       "      <td>1</td>\n",
       "      <td>1</td>\n",
       "      <td>-1</td>\n",
       "      <td>-1</td>\n",
       "      <td>0</td>\n",
       "      <td>-1</td>\n",
       "      <td>1</td>\n",
       "      <td>1</td>\n",
       "      <td>1</td>\n",
       "      <td>-1</td>\n",
       "    </tr>\n",
       "    <tr>\n",
       "      <th>2</th>\n",
       "      <td>1</td>\n",
       "      <td>0</td>\n",
       "      <td>1</td>\n",
       "      <td>1</td>\n",
       "      <td>1</td>\n",
       "      <td>-1</td>\n",
       "      <td>-1</td>\n",
       "      <td>-1</td>\n",
       "      <td>-1</td>\n",
       "      <td>1</td>\n",
       "      <td>...</td>\n",
       "      <td>1</td>\n",
       "      <td>1</td>\n",
       "      <td>1</td>\n",
       "      <td>-1</td>\n",
       "      <td>1</td>\n",
       "      <td>-1</td>\n",
       "      <td>1</td>\n",
       "      <td>0</td>\n",
       "      <td>-1</td>\n",
       "      <td>-1</td>\n",
       "    </tr>\n",
       "    <tr>\n",
       "      <th>3</th>\n",
       "      <td>1</td>\n",
       "      <td>0</td>\n",
       "      <td>1</td>\n",
       "      <td>1</td>\n",
       "      <td>1</td>\n",
       "      <td>-1</td>\n",
       "      <td>-1</td>\n",
       "      <td>-1</td>\n",
       "      <td>1</td>\n",
       "      <td>1</td>\n",
       "      <td>...</td>\n",
       "      <td>1</td>\n",
       "      <td>1</td>\n",
       "      <td>-1</td>\n",
       "      <td>-1</td>\n",
       "      <td>1</td>\n",
       "      <td>-1</td>\n",
       "      <td>1</td>\n",
       "      <td>-1</td>\n",
       "      <td>1</td>\n",
       "      <td>-1</td>\n",
       "    </tr>\n",
       "    <tr>\n",
       "      <th>4</th>\n",
       "      <td>1</td>\n",
       "      <td>0</td>\n",
       "      <td>-1</td>\n",
       "      <td>1</td>\n",
       "      <td>1</td>\n",
       "      <td>-1</td>\n",
       "      <td>1</td>\n",
       "      <td>1</td>\n",
       "      <td>-1</td>\n",
       "      <td>1</td>\n",
       "      <td>...</td>\n",
       "      <td>-1</td>\n",
       "      <td>1</td>\n",
       "      <td>-1</td>\n",
       "      <td>-1</td>\n",
       "      <td>0</td>\n",
       "      <td>-1</td>\n",
       "      <td>1</td>\n",
       "      <td>1</td>\n",
       "      <td>1</td>\n",
       "      <td>1</td>\n",
       "    </tr>\n",
       "  </tbody>\n",
       "</table>\n",
       "<p>5 rows × 31 columns</p>\n",
       "</div>"
      ],
      "text/plain": [
       "   having_IP_Address  URL_Length  Shortining_Service  having_At_Symbol  \\\n",
       "0                 -1           1                   1                 1   \n",
       "1                  1           1                   1                 1   \n",
       "2                  1           0                   1                 1   \n",
       "3                  1           0                   1                 1   \n",
       "4                  1           0                  -1                 1   \n",
       "\n",
       "   double_slash_redirecting  Prefix_Suffix  having_Sub_Domain  SSLfinal_State  \\\n",
       "0                        -1             -1                 -1              -1   \n",
       "1                         1             -1                  0               1   \n",
       "2                         1             -1                 -1              -1   \n",
       "3                         1             -1                 -1              -1   \n",
       "4                         1             -1                  1               1   \n",
       "\n",
       "   Domain_registeration_length  Favicon  ...  popUpWidnow  Iframe  \\\n",
       "0                           -1        1  ...            1       1   \n",
       "1                           -1        1  ...            1       1   \n",
       "2                           -1        1  ...            1       1   \n",
       "3                            1        1  ...            1       1   \n",
       "4                           -1        1  ...           -1       1   \n",
       "\n",
       "   age_of_domain  DNSRecord  web_traffic  Page_Rank  Google_Index  \\\n",
       "0             -1         -1           -1         -1             1   \n",
       "1             -1         -1            0         -1             1   \n",
       "2              1         -1            1         -1             1   \n",
       "3             -1         -1            1         -1             1   \n",
       "4             -1         -1            0         -1             1   \n",
       "\n",
       "   Links_pointing_to_page  Statistical_report  Result  \n",
       "0                       1                  -1      -1  \n",
       "1                       1                   1      -1  \n",
       "2                       0                  -1      -1  \n",
       "3                      -1                   1      -1  \n",
       "4                       1                   1       1  \n",
       "\n",
       "[5 rows x 31 columns]"
      ]
     },
     "execution_count": 23,
     "metadata": {},
     "output_type": "execute_result"
    }
   ],
   "source": [
    "df = pd.read_csv('Phishing-Websites-Detection-master\\Phishing.csv')\n",
    "df.head()"
   ]
  },
  {
   "cell_type": "markdown",
   "id": "6105255a",
   "metadata": {},
   "source": [
    "#### ***Null Value Checker***"
   ]
  },
  {
   "cell_type": "code",
   "execution_count": 24,
   "id": "392ef7a9",
   "metadata": {},
   "outputs": [
    {
     "name": "stdout",
     "output_type": "stream",
     "text": [
      "<class 'pandas.core.frame.DataFrame'>\n",
      "RangeIndex: 11055 entries, 0 to 11054\n",
      "Data columns (total 31 columns):\n",
      " #   Column                       Non-Null Count  Dtype\n",
      "---  ------                       --------------  -----\n",
      " 0   having_IP_Address            11055 non-null  int64\n",
      " 1   URL_Length                   11055 non-null  int64\n",
      " 2   Shortining_Service           11055 non-null  int64\n",
      " 3   having_At_Symbol             11055 non-null  int64\n",
      " 4   double_slash_redirecting     11055 non-null  int64\n",
      " 5   Prefix_Suffix                11055 non-null  int64\n",
      " 6   having_Sub_Domain            11055 non-null  int64\n",
      " 7   SSLfinal_State               11055 non-null  int64\n",
      " 8   Domain_registeration_length  11055 non-null  int64\n",
      " 9   Favicon                      11055 non-null  int64\n",
      " 10  port                         11055 non-null  int64\n",
      " 11  HTTPS_token                  11055 non-null  int64\n",
      " 12  Request_URL                  11055 non-null  int64\n",
      " 13  URL_of_Anchor                11055 non-null  int64\n",
      " 14  Links_in_tags                11055 non-null  int64\n",
      " 15  SFH                          11055 non-null  int64\n",
      " 16  Submitting_to_email          11055 non-null  int64\n",
      " 17  Abnormal_URL                 11055 non-null  int64\n",
      " 18  Redirect                     11055 non-null  int64\n",
      " 19  on_mouseover                 11055 non-null  int64\n",
      " 20  RightClick                   11055 non-null  int64\n",
      " 21  popUpWidnow                  11055 non-null  int64\n",
      " 22  Iframe                       11055 non-null  int64\n",
      " 23  age_of_domain                11055 non-null  int64\n",
      " 24  DNSRecord                    11055 non-null  int64\n",
      " 25  web_traffic                  11055 non-null  int64\n",
      " 26  Page_Rank                    11055 non-null  int64\n",
      " 27  Google_Index                 11055 non-null  int64\n",
      " 28  Links_pointing_to_page       11055 non-null  int64\n",
      " 29  Statistical_report           11055 non-null  int64\n",
      " 30  Result                       11055 non-null  int64\n",
      "dtypes: int64(31)\n",
      "memory usage: 2.6 MB\n",
      "None\n",
      "\n",
      "\n"
     ]
    },
    {
     "data": {
      "text/plain": [
       "having_IP_Address              False\n",
       "URL_Length                     False\n",
       "Shortining_Service             False\n",
       "having_At_Symbol               False\n",
       "double_slash_redirecting       False\n",
       "Prefix_Suffix                  False\n",
       "having_Sub_Domain              False\n",
       "SSLfinal_State                 False\n",
       "Domain_registeration_length    False\n",
       "Favicon                        False\n",
       "port                           False\n",
       "HTTPS_token                    False\n",
       "Request_URL                    False\n",
       "URL_of_Anchor                  False\n",
       "Links_in_tags                  False\n",
       "SFH                            False\n",
       "Submitting_to_email            False\n",
       "Abnormal_URL                   False\n",
       "Redirect                       False\n",
       "on_mouseover                   False\n",
       "RightClick                     False\n",
       "popUpWidnow                    False\n",
       "Iframe                         False\n",
       "age_of_domain                  False\n",
       "DNSRecord                      False\n",
       "web_traffic                    False\n",
       "Page_Rank                      False\n",
       "Google_Index                   False\n",
       "Links_pointing_to_page         False\n",
       "Statistical_report             False\n",
       "Result                         False\n",
       "dtype: bool"
      ]
     },
     "execution_count": 24,
     "metadata": {},
     "output_type": "execute_result"
    }
   ],
   "source": [
    "print(df.info())\n",
    "print(\"\\n\")\n",
    "df.isnull().any()"
   ]
  },
  {
   "cell_type": "markdown",
   "id": "8bf0ca1e",
   "metadata": {},
   "source": [
    "#### *Hence there are no Null Values in the dataset*\n",
    "\n",
    "\n",
    "#### ***Checking for Dependent and Independent Variables***"
   ]
  },
  {
   "cell_type": "code",
   "execution_count": 25,
   "id": "83867527",
   "metadata": {},
   "outputs": [
    {
     "data": {
      "text/plain": [
       "0       -1\n",
       "1       -1\n",
       "2       -1\n",
       "3       -1\n",
       "4        1\n",
       "        ..\n",
       "11050    1\n",
       "11051   -1\n",
       "11052   -1\n",
       "11053   -1\n",
       "11054   -1\n",
       "Name: Result, Length: 11055, dtype: int64"
      ]
     },
     "execution_count": 25,
     "metadata": {},
     "output_type": "execute_result"
    }
   ],
   "source": [
    "X = df.copy()\n",
    "\n",
    "y = X.pop('Result')\n",
    "\n",
    "X = df.drop(columns=['Result'])\n",
    "\n",
    "y"
   ]
  },
  {
   "cell_type": "markdown",
   "id": "14e33f64",
   "metadata": {},
   "source": [
    "#### *Here the Last Column named as Result in Dataset is the **dependent variable** which is dependent of 30 no of Factors*\n",
    "#### *Other than Result column are **independent variable*** "
   ]
  },
  {
   "cell_type": "markdown",
   "id": "fbdd921d",
   "metadata": {},
   "source": [
    "### ***Splitting the dataset into Train and Test sets***"
   ]
  },
  {
   "cell_type": "code",
   "execution_count": 26,
   "id": "974e09ec",
   "metadata": {},
   "outputs": [
    {
     "name": "stdout",
     "output_type": "stream",
     "text": [
      "Input shape is  [30]\n"
     ]
    },
    {
     "data": {
      "text/html": [
       "<div>\n",
       "<style scoped>\n",
       "    .dataframe tbody tr th:only-of-type {\n",
       "        vertical-align: middle;\n",
       "    }\n",
       "\n",
       "    .dataframe tbody tr th {\n",
       "        vertical-align: top;\n",
       "    }\n",
       "\n",
       "    .dataframe thead th {\n",
       "        text-align: right;\n",
       "    }\n",
       "</style>\n",
       "<table border=\"1\" class=\"dataframe\">\n",
       "  <thead>\n",
       "    <tr style=\"text-align: right;\">\n",
       "      <th></th>\n",
       "      <th>having_IP_Address</th>\n",
       "      <th>URL_Length</th>\n",
       "      <th>Shortining_Service</th>\n",
       "      <th>having_At_Symbol</th>\n",
       "      <th>double_slash_redirecting</th>\n",
       "      <th>Prefix_Suffix</th>\n",
       "      <th>having_Sub_Domain</th>\n",
       "      <th>SSLfinal_State</th>\n",
       "      <th>Domain_registeration_length</th>\n",
       "      <th>Favicon</th>\n",
       "      <th>...</th>\n",
       "      <th>RightClick</th>\n",
       "      <th>popUpWidnow</th>\n",
       "      <th>Iframe</th>\n",
       "      <th>age_of_domain</th>\n",
       "      <th>DNSRecord</th>\n",
       "      <th>web_traffic</th>\n",
       "      <th>Page_Rank</th>\n",
       "      <th>Google_Index</th>\n",
       "      <th>Links_pointing_to_page</th>\n",
       "      <th>Statistical_report</th>\n",
       "    </tr>\n",
       "  </thead>\n",
       "  <tbody>\n",
       "    <tr>\n",
       "      <th>0</th>\n",
       "      <td>-1</td>\n",
       "      <td>1</td>\n",
       "      <td>1</td>\n",
       "      <td>1</td>\n",
       "      <td>-1</td>\n",
       "      <td>-1</td>\n",
       "      <td>-1</td>\n",
       "      <td>-1</td>\n",
       "      <td>-1</td>\n",
       "      <td>1</td>\n",
       "      <td>...</td>\n",
       "      <td>1</td>\n",
       "      <td>1</td>\n",
       "      <td>1</td>\n",
       "      <td>-1</td>\n",
       "      <td>-1</td>\n",
       "      <td>-1</td>\n",
       "      <td>-1</td>\n",
       "      <td>1</td>\n",
       "      <td>1</td>\n",
       "      <td>-1</td>\n",
       "    </tr>\n",
       "    <tr>\n",
       "      <th>1</th>\n",
       "      <td>1</td>\n",
       "      <td>1</td>\n",
       "      <td>1</td>\n",
       "      <td>1</td>\n",
       "      <td>1</td>\n",
       "      <td>-1</td>\n",
       "      <td>0</td>\n",
       "      <td>1</td>\n",
       "      <td>-1</td>\n",
       "      <td>1</td>\n",
       "      <td>...</td>\n",
       "      <td>1</td>\n",
       "      <td>1</td>\n",
       "      <td>1</td>\n",
       "      <td>-1</td>\n",
       "      <td>-1</td>\n",
       "      <td>0</td>\n",
       "      <td>-1</td>\n",
       "      <td>1</td>\n",
       "      <td>1</td>\n",
       "      <td>1</td>\n",
       "    </tr>\n",
       "    <tr>\n",
       "      <th>2</th>\n",
       "      <td>1</td>\n",
       "      <td>0</td>\n",
       "      <td>1</td>\n",
       "      <td>1</td>\n",
       "      <td>1</td>\n",
       "      <td>-1</td>\n",
       "      <td>-1</td>\n",
       "      <td>-1</td>\n",
       "      <td>-1</td>\n",
       "      <td>1</td>\n",
       "      <td>...</td>\n",
       "      <td>1</td>\n",
       "      <td>1</td>\n",
       "      <td>1</td>\n",
       "      <td>1</td>\n",
       "      <td>-1</td>\n",
       "      <td>1</td>\n",
       "      <td>-1</td>\n",
       "      <td>1</td>\n",
       "      <td>0</td>\n",
       "      <td>-1</td>\n",
       "    </tr>\n",
       "    <tr>\n",
       "      <th>3</th>\n",
       "      <td>1</td>\n",
       "      <td>0</td>\n",
       "      <td>1</td>\n",
       "      <td>1</td>\n",
       "      <td>1</td>\n",
       "      <td>-1</td>\n",
       "      <td>-1</td>\n",
       "      <td>-1</td>\n",
       "      <td>1</td>\n",
       "      <td>1</td>\n",
       "      <td>...</td>\n",
       "      <td>1</td>\n",
       "      <td>1</td>\n",
       "      <td>1</td>\n",
       "      <td>-1</td>\n",
       "      <td>-1</td>\n",
       "      <td>1</td>\n",
       "      <td>-1</td>\n",
       "      <td>1</td>\n",
       "      <td>-1</td>\n",
       "      <td>1</td>\n",
       "    </tr>\n",
       "    <tr>\n",
       "      <th>4</th>\n",
       "      <td>1</td>\n",
       "      <td>0</td>\n",
       "      <td>-1</td>\n",
       "      <td>1</td>\n",
       "      <td>1</td>\n",
       "      <td>-1</td>\n",
       "      <td>1</td>\n",
       "      <td>1</td>\n",
       "      <td>-1</td>\n",
       "      <td>1</td>\n",
       "      <td>...</td>\n",
       "      <td>1</td>\n",
       "      <td>-1</td>\n",
       "      <td>1</td>\n",
       "      <td>-1</td>\n",
       "      <td>-1</td>\n",
       "      <td>0</td>\n",
       "      <td>-1</td>\n",
       "      <td>1</td>\n",
       "      <td>1</td>\n",
       "      <td>1</td>\n",
       "    </tr>\n",
       "  </tbody>\n",
       "</table>\n",
       "<p>5 rows × 30 columns</p>\n",
       "</div>"
      ],
      "text/plain": [
       "   having_IP_Address  URL_Length  Shortining_Service  having_At_Symbol  \\\n",
       "0                 -1           1                   1                 1   \n",
       "1                  1           1                   1                 1   \n",
       "2                  1           0                   1                 1   \n",
       "3                  1           0                   1                 1   \n",
       "4                  1           0                  -1                 1   \n",
       "\n",
       "   double_slash_redirecting  Prefix_Suffix  having_Sub_Domain  SSLfinal_State  \\\n",
       "0                        -1             -1                 -1              -1   \n",
       "1                         1             -1                  0               1   \n",
       "2                         1             -1                 -1              -1   \n",
       "3                         1             -1                 -1              -1   \n",
       "4                         1             -1                  1               1   \n",
       "\n",
       "   Domain_registeration_length  Favicon  ...  RightClick  popUpWidnow  Iframe  \\\n",
       "0                           -1        1  ...           1            1       1   \n",
       "1                           -1        1  ...           1            1       1   \n",
       "2                           -1        1  ...           1            1       1   \n",
       "3                            1        1  ...           1            1       1   \n",
       "4                           -1        1  ...           1           -1       1   \n",
       "\n",
       "   age_of_domain  DNSRecord  web_traffic  Page_Rank  Google_Index  \\\n",
       "0             -1         -1           -1         -1             1   \n",
       "1             -1         -1            0         -1             1   \n",
       "2              1         -1            1         -1             1   \n",
       "3             -1         -1            1         -1             1   \n",
       "4             -1         -1            0         -1             1   \n",
       "\n",
       "   Links_pointing_to_page  Statistical_report  \n",
       "0                       1                  -1  \n",
       "1                       1                   1  \n",
       "2                       0                  -1  \n",
       "3                      -1                   1  \n",
       "4                       1                   1  \n",
       "\n",
       "[5 rows x 30 columns]"
      ]
     },
     "execution_count": 26,
     "metadata": {},
     "output_type": "execute_result"
    }
   ],
   "source": [
    "X_train,X_test,y_train,y_test = tts(X,y,stratify=y,test_size=0.25)\n",
    "input_shape = [X_train.shape[1]]\n",
    "print(\"Input shape is \", input_shape)\n",
    "X.head()"
   ]
  },
  {
   "cell_type": "markdown",
   "id": "dc3f4b0f",
   "metadata": {},
   "source": [
    "### ***Logistic Regression***"
   ]
  },
  {
   "cell_type": "code",
   "execution_count": 27,
   "id": "f22afe4f",
   "metadata": {},
   "outputs": [
    {
     "data": {
      "text/html": [
       "<style>#sk-container-id-3 {color: black;background-color: white;}#sk-container-id-3 pre{padding: 0;}#sk-container-id-3 div.sk-toggleable {background-color: white;}#sk-container-id-3 label.sk-toggleable__label {cursor: pointer;display: block;width: 100%;margin-bottom: 0;padding: 0.3em;box-sizing: border-box;text-align: center;}#sk-container-id-3 label.sk-toggleable__label-arrow:before {content: \"▸\";float: left;margin-right: 0.25em;color: #696969;}#sk-container-id-3 label.sk-toggleable__label-arrow:hover:before {color: black;}#sk-container-id-3 div.sk-estimator:hover label.sk-toggleable__label-arrow:before {color: black;}#sk-container-id-3 div.sk-toggleable__content {max-height: 0;max-width: 0;overflow: hidden;text-align: left;background-color: #f0f8ff;}#sk-container-id-3 div.sk-toggleable__content pre {margin: 0.2em;color: black;border-radius: 0.25em;background-color: #f0f8ff;}#sk-container-id-3 input.sk-toggleable__control:checked~div.sk-toggleable__content {max-height: 200px;max-width: 100%;overflow: auto;}#sk-container-id-3 input.sk-toggleable__control:checked~label.sk-toggleable__label-arrow:before {content: \"▾\";}#sk-container-id-3 div.sk-estimator input.sk-toggleable__control:checked~label.sk-toggleable__label {background-color: #d4ebff;}#sk-container-id-3 div.sk-label input.sk-toggleable__control:checked~label.sk-toggleable__label {background-color: #d4ebff;}#sk-container-id-3 input.sk-hidden--visually {border: 0;clip: rect(1px 1px 1px 1px);clip: rect(1px, 1px, 1px, 1px);height: 1px;margin: -1px;overflow: hidden;padding: 0;position: absolute;width: 1px;}#sk-container-id-3 div.sk-estimator {font-family: monospace;background-color: #f0f8ff;border: 1px dotted black;border-radius: 0.25em;box-sizing: border-box;margin-bottom: 0.5em;}#sk-container-id-3 div.sk-estimator:hover {background-color: #d4ebff;}#sk-container-id-3 div.sk-parallel-item::after {content: \"\";width: 100%;border-bottom: 1px solid gray;flex-grow: 1;}#sk-container-id-3 div.sk-label:hover label.sk-toggleable__label {background-color: #d4ebff;}#sk-container-id-3 div.sk-serial::before {content: \"\";position: absolute;border-left: 1px solid gray;box-sizing: border-box;top: 0;bottom: 0;left: 50%;z-index: 0;}#sk-container-id-3 div.sk-serial {display: flex;flex-direction: column;align-items: center;background-color: white;padding-right: 0.2em;padding-left: 0.2em;position: relative;}#sk-container-id-3 div.sk-item {position: relative;z-index: 1;}#sk-container-id-3 div.sk-parallel {display: flex;align-items: stretch;justify-content: center;background-color: white;position: relative;}#sk-container-id-3 div.sk-item::before, #sk-container-id-3 div.sk-parallel-item::before {content: \"\";position: absolute;border-left: 1px solid gray;box-sizing: border-box;top: 0;bottom: 0;left: 50%;z-index: -1;}#sk-container-id-3 div.sk-parallel-item {display: flex;flex-direction: column;z-index: 1;position: relative;background-color: white;}#sk-container-id-3 div.sk-parallel-item:first-child::after {align-self: flex-end;width: 50%;}#sk-container-id-3 div.sk-parallel-item:last-child::after {align-self: flex-start;width: 50%;}#sk-container-id-3 div.sk-parallel-item:only-child::after {width: 0;}#sk-container-id-3 div.sk-dashed-wrapped {border: 1px dashed gray;margin: 0 0.4em 0.5em 0.4em;box-sizing: border-box;padding-bottom: 0.4em;background-color: white;}#sk-container-id-3 div.sk-label label {font-family: monospace;font-weight: bold;display: inline-block;line-height: 1.2em;}#sk-container-id-3 div.sk-label-container {text-align: center;}#sk-container-id-3 div.sk-container {/* jupyter's `normalize.less` sets `[hidden] { display: none; }` but bootstrap.min.css set `[hidden] { display: none !important; }` so we also need the `!important` here to be able to override the default hidden behavior on the sphinx rendered scikit-learn.org. See: https://github.com/scikit-learn/scikit-learn/issues/21755 */display: inline-block !important;position: relative;}#sk-container-id-3 div.sk-text-repr-fallback {display: none;}</style><div id=\"sk-container-id-3\" class=\"sk-top-container\"><div class=\"sk-text-repr-fallback\"><pre>LogisticRegression()</pre><b>In a Jupyter environment, please rerun this cell to show the HTML representation or trust the notebook. <br />On GitHub, the HTML representation is unable to render, please try loading this page with nbviewer.org.</b></div><div class=\"sk-container\" hidden><div class=\"sk-item\"><div class=\"sk-estimator sk-toggleable\"><input class=\"sk-toggleable__control sk-hidden--visually\" id=\"sk-estimator-id-3\" type=\"checkbox\" checked><label for=\"sk-estimator-id-3\" class=\"sk-toggleable__label sk-toggleable__label-arrow\">LogisticRegression</label><div class=\"sk-toggleable__content\"><pre>LogisticRegression()</pre></div></div></div></div></div>"
      ],
      "text/plain": [
       "LogisticRegression()"
      ]
     },
     "execution_count": 27,
     "metadata": {},
     "output_type": "execute_result"
    }
   ],
   "source": [
    "from sklearn.linear_model import LogisticRegression as LR\n",
    "lr = LR()\n",
    "lr.fit(X_train,y_train)"
   ]
  },
  {
   "cell_type": "code",
   "execution_count": 28,
   "id": "e82481a5",
   "metadata": {},
   "outputs": [],
   "source": [
    "y_pr = lr.predict(X_test)"
   ]
  },
  {
   "cell_type": "code",
   "execution_count": 55,
   "id": "ffd5f53f",
   "metadata": {},
   "outputs": [
    {
     "name": "stdout",
     "output_type": "stream",
     "text": [
      "              precision    recall  f1-score   support\n",
      "\n",
      "          -1       0.92      0.90      0.91      1225\n",
      "           1       0.92      0.94      0.93      1539\n",
      "\n",
      "    accuracy                           0.92      2764\n",
      "   macro avg       0.92      0.92      0.92      2764\n",
      "weighted avg       0.92      0.92      0.92      2764\n",
      "\n",
      "9.63265306122449 5.977907732293697\n"
     ]
    }
   ],
   "source": [
    "logr = CR(y_test,y_pr)\n",
    "print(logr)\n",
    "cm = CM(y_test,y_pr)\n",
    "# CP(y_test,y_pr)\n",
    "FPR = (cm[0][1]/(cm[0][0] + cm[0][1]))*100\n",
    "FFR = (cm[1][0]/(cm[1][0]+cm[1][1]))*100\n",
    "print(FPR,FFR)"
   ]
  },
  {
   "cell_type": "markdown",
   "id": "29d4a8ae",
   "metadata": {},
   "source": [
    "### ***K- Nearest Neighbour Algorithm using Euclidean Distance***"
   ]
  },
  {
   "cell_type": "code",
   "execution_count": 30,
   "id": "cf93b6a8",
   "metadata": {},
   "outputs": [
    {
     "data": {
      "text/html": [
       "<style>#sk-container-id-4 {color: black;background-color: white;}#sk-container-id-4 pre{padding: 0;}#sk-container-id-4 div.sk-toggleable {background-color: white;}#sk-container-id-4 label.sk-toggleable__label {cursor: pointer;display: block;width: 100%;margin-bottom: 0;padding: 0.3em;box-sizing: border-box;text-align: center;}#sk-container-id-4 label.sk-toggleable__label-arrow:before {content: \"▸\";float: left;margin-right: 0.25em;color: #696969;}#sk-container-id-4 label.sk-toggleable__label-arrow:hover:before {color: black;}#sk-container-id-4 div.sk-estimator:hover label.sk-toggleable__label-arrow:before {color: black;}#sk-container-id-4 div.sk-toggleable__content {max-height: 0;max-width: 0;overflow: hidden;text-align: left;background-color: #f0f8ff;}#sk-container-id-4 div.sk-toggleable__content pre {margin: 0.2em;color: black;border-radius: 0.25em;background-color: #f0f8ff;}#sk-container-id-4 input.sk-toggleable__control:checked~div.sk-toggleable__content {max-height: 200px;max-width: 100%;overflow: auto;}#sk-container-id-4 input.sk-toggleable__control:checked~label.sk-toggleable__label-arrow:before {content: \"▾\";}#sk-container-id-4 div.sk-estimator input.sk-toggleable__control:checked~label.sk-toggleable__label {background-color: #d4ebff;}#sk-container-id-4 div.sk-label input.sk-toggleable__control:checked~label.sk-toggleable__label {background-color: #d4ebff;}#sk-container-id-4 input.sk-hidden--visually {border: 0;clip: rect(1px 1px 1px 1px);clip: rect(1px, 1px, 1px, 1px);height: 1px;margin: -1px;overflow: hidden;padding: 0;position: absolute;width: 1px;}#sk-container-id-4 div.sk-estimator {font-family: monospace;background-color: #f0f8ff;border: 1px dotted black;border-radius: 0.25em;box-sizing: border-box;margin-bottom: 0.5em;}#sk-container-id-4 div.sk-estimator:hover {background-color: #d4ebff;}#sk-container-id-4 div.sk-parallel-item::after {content: \"\";width: 100%;border-bottom: 1px solid gray;flex-grow: 1;}#sk-container-id-4 div.sk-label:hover label.sk-toggleable__label {background-color: #d4ebff;}#sk-container-id-4 div.sk-serial::before {content: \"\";position: absolute;border-left: 1px solid gray;box-sizing: border-box;top: 0;bottom: 0;left: 50%;z-index: 0;}#sk-container-id-4 div.sk-serial {display: flex;flex-direction: column;align-items: center;background-color: white;padding-right: 0.2em;padding-left: 0.2em;position: relative;}#sk-container-id-4 div.sk-item {position: relative;z-index: 1;}#sk-container-id-4 div.sk-parallel {display: flex;align-items: stretch;justify-content: center;background-color: white;position: relative;}#sk-container-id-4 div.sk-item::before, #sk-container-id-4 div.sk-parallel-item::before {content: \"\";position: absolute;border-left: 1px solid gray;box-sizing: border-box;top: 0;bottom: 0;left: 50%;z-index: -1;}#sk-container-id-4 div.sk-parallel-item {display: flex;flex-direction: column;z-index: 1;position: relative;background-color: white;}#sk-container-id-4 div.sk-parallel-item:first-child::after {align-self: flex-end;width: 50%;}#sk-container-id-4 div.sk-parallel-item:last-child::after {align-self: flex-start;width: 50%;}#sk-container-id-4 div.sk-parallel-item:only-child::after {width: 0;}#sk-container-id-4 div.sk-dashed-wrapped {border: 1px dashed gray;margin: 0 0.4em 0.5em 0.4em;box-sizing: border-box;padding-bottom: 0.4em;background-color: white;}#sk-container-id-4 div.sk-label label {font-family: monospace;font-weight: bold;display: inline-block;line-height: 1.2em;}#sk-container-id-4 div.sk-label-container {text-align: center;}#sk-container-id-4 div.sk-container {/* jupyter's `normalize.less` sets `[hidden] { display: none; }` but bootstrap.min.css set `[hidden] { display: none !important; }` so we also need the `!important` here to be able to override the default hidden behavior on the sphinx rendered scikit-learn.org. See: https://github.com/scikit-learn/scikit-learn/issues/21755 */display: inline-block !important;position: relative;}#sk-container-id-4 div.sk-text-repr-fallback {display: none;}</style><div id=\"sk-container-id-4\" class=\"sk-top-container\"><div class=\"sk-text-repr-fallback\"><pre>KNeighborsClassifier(n_neighbors=3)</pre><b>In a Jupyter environment, please rerun this cell to show the HTML representation or trust the notebook. <br />On GitHub, the HTML representation is unable to render, please try loading this page with nbviewer.org.</b></div><div class=\"sk-container\" hidden><div class=\"sk-item\"><div class=\"sk-estimator sk-toggleable\"><input class=\"sk-toggleable__control sk-hidden--visually\" id=\"sk-estimator-id-4\" type=\"checkbox\" checked><label for=\"sk-estimator-id-4\" class=\"sk-toggleable__label sk-toggleable__label-arrow\">KNeighborsClassifier</label><div class=\"sk-toggleable__content\"><pre>KNeighborsClassifier(n_neighbors=3)</pre></div></div></div></div></div>"
      ],
      "text/plain": [
       "KNeighborsClassifier(n_neighbors=3)"
      ]
     },
     "execution_count": 30,
     "metadata": {},
     "output_type": "execute_result"
    }
   ],
   "source": [
    "from sklearn.neighbors import KNeighborsClassifier as KNC\n",
    "kn1 = KNC(n_neighbors=3,metric='minkowski',p=2)\n",
    "kn1.fit(X_train,y_train)"
   ]
  },
  {
   "cell_type": "code",
   "execution_count": 56,
   "id": "5b9622eb",
   "metadata": {},
   "outputs": [
    {
     "name": "stdout",
     "output_type": "stream",
     "text": [
      "              precision    recall  f1-score   support\n",
      "\n",
      "          -1       0.95      0.93      0.94      1225\n",
      "           1       0.95      0.96      0.95      1539\n",
      "\n",
      "    accuracy                           0.95      2764\n",
      "   macro avg       0.95      0.95      0.95      2764\n",
      "weighted avg       0.95      0.95      0.95      2764\n",
      "\n",
      "6.693877551020408 4.223521767381416\n"
     ]
    },
    {
     "data": {
      "text/plain": [
       "0.9468162083936325"
      ]
     },
     "execution_count": 56,
     "metadata": {},
     "output_type": "execute_result"
    }
   ],
   "source": [
    "y_pr1 = kn1.predict(X_test)\n",
    "kn1_eu = CR(y_test,y_pr1)\n",
    "print(kn1_eu)\n",
    "cm = CM(y_test,y_pr1)\n",
    "# CP(y_test,y_pr)\n",
    "FPR = (cm[0][1]/(cm[0][0] + cm[0][1]))*100\n",
    "FFR = (cm[1][0]/(cm[1][0]+cm[1][1]))*100\n",
    "print(FPR,FFR)\n",
    "AS(y_test,y_pr1)"
   ]
  },
  {
   "cell_type": "markdown",
   "id": "75048236",
   "metadata": {},
   "source": [
    "### ***K-Nearest Neighbour Algorithm using Manhattan Distance***"
   ]
  },
  {
   "cell_type": "code",
   "execution_count": 59,
   "id": "c9380cb6",
   "metadata": {},
   "outputs": [
    {
     "name": "stdout",
     "output_type": "stream",
     "text": [
      "              precision    recall  f1-score   support\n",
      "\n",
      "          -1       0.95      0.93      0.94      1225\n",
      "           1       0.95      0.96      0.95      1539\n",
      "\n",
      "    accuracy                           0.95      2764\n",
      "   macro avg       0.95      0.95      0.95      2764\n",
      "weighted avg       0.95      0.95      0.95      2764\n",
      "\n",
      "6.36734693877551 3.248862897985705\n"
     ]
    },
    {
     "data": {
      "text/plain": [
       "0.9536903039073806"
      ]
     },
     "execution_count": 59,
     "metadata": {},
     "output_type": "execute_result"
    }
   ],
   "source": [
    "kn2 = KNC(n_neighbors=5,metric='minkowski',p=1)\n",
    "kn2.fit(X_train,y_train)\n",
    "y_pr2 = kn2.predict(X_test)\n",
    "kn2_eu = CR(y_test,y_pr1)\n",
    "print(kn2_eu)\n",
    "cm = CM(y_test,y_pr2)\n",
    "# CP(y_test,y_pr)\n",
    "FPR = (cm[0][1]/(cm[0][0] + cm[0][1]))*100\n",
    "FFR = (cm[1][0]/(cm[1][0]+cm[1][1]))*100\n",
    "print(FPR,FFR)\n",
    "AS(y_test,y_pr2)"
   ]
  },
  {
   "cell_type": "markdown",
   "id": "73fb62a3",
   "metadata": {},
   "source": [
    "### ***Support Vector Machine using RBF Kernel***"
   ]
  },
  {
   "cell_type": "code",
   "execution_count": 60,
   "id": "15527811",
   "metadata": {},
   "outputs": [
    {
     "name": "stdout",
     "output_type": "stream",
     "text": [
      "              precision    recall  f1-score   support\n",
      "\n",
      "          -1       0.95      0.92      0.94      1225\n",
      "           1       0.94      0.96      0.95      1539\n",
      "\n",
      "    accuracy                           0.94      2764\n",
      "   macro avg       0.94      0.94      0.94      2764\n",
      "weighted avg       0.94      0.94      0.94      2764\n",
      "\n",
      "8.244897959183675 3.5737491877842755\n"
     ]
    },
    {
     "data": {
      "text/plain": [
       "0.9435600578871202"
      ]
     },
     "execution_count": 60,
     "metadata": {},
     "output_type": "execute_result"
    }
   ],
   "source": [
    "from sklearn.svm import SVC\n",
    "sm1 = SVC(kernel='rbf')\n",
    "sm1.fit(X_train,y_train)\n",
    "y_pr3 = sm1.predict(X_test)\n",
    "sm1_rbf = CR(y_test,y_pr3)\n",
    "print(sm1_rbf)\n",
    "cm = CM(y_test,y_pr3)\n",
    "# CP(y_test,y_pr)\n",
    "FPR = (cm[0][1]/(cm[0][0] + cm[0][1]))*100\n",
    "FFR = (cm[1][0]/(cm[1][0]+cm[1][1]))*100\n",
    "print(FPR,FFR)\n",
    "AS(y_test,y_pr3)"
   ]
  },
  {
   "cell_type": "markdown",
   "id": "e2336259",
   "metadata": {},
   "source": [
    "### ***Support Vector Machine using Sigmoid Kernel***"
   ]
  },
  {
   "cell_type": "code",
   "execution_count": 62,
   "id": "b6772d68",
   "metadata": {},
   "outputs": [
    {
     "name": "stdout",
     "output_type": "stream",
     "text": [
      "              precision    recall  f1-score   support\n",
      "\n",
      "          -1       0.82      0.79      0.81      1225\n",
      "           1       0.84      0.87      0.85      1539\n",
      "\n",
      "    accuracy                           0.83      2764\n",
      "   macro avg       0.83      0.83      0.83      2764\n",
      "weighted avg       0.83      0.83      0.83      2764\n",
      "\n",
      "21.224489795918366 13.32033788174139\n"
     ]
    },
    {
     "data": {
      "text/plain": [
       "0.8317655571635311"
      ]
     },
     "execution_count": 62,
     "metadata": {},
     "output_type": "execute_result"
    }
   ],
   "source": [
    "from sklearn.svm import SVC\n",
    "sm2 = SVC(kernel='sigmoid')\n",
    "sm2.fit(X_train,y_train)\n",
    "y_pr4 = sm2.predict(X_test)\n",
    "sm2_sig = CR(y_test,y_pr4)\n",
    "print(sm2_sig)\n",
    "cm = CM(y_test,y_pr4)\n",
    "# CP(y_test,y_pr)\n",
    "FPR = (cm[0][1]/(cm[0][0] + cm[0][1]))*100\n",
    "FFR = (cm[1][0]/(cm[1][0]+cm[1][1]))*100\n",
    "print(FPR,FFR)\n",
    "AS(y_test,y_pr4)"
   ]
  },
  {
   "cell_type": "markdown",
   "id": "3418114c",
   "metadata": {},
   "source": [
    "### ***Decision Tree Classifier***"
   ]
  },
  {
   "cell_type": "code",
   "execution_count": 63,
   "id": "d4d452fa",
   "metadata": {},
   "outputs": [
    {
     "name": "stdout",
     "output_type": "stream",
     "text": [
      "              precision    recall  f1-score   support\n",
      "\n",
      "          -1       0.96      0.95      0.95      1225\n",
      "           1       0.96      0.96      0.96      1539\n",
      "\n",
      "    accuracy                           0.96      2764\n",
      "   macro avg       0.96      0.96      0.96      2764\n",
      "weighted avg       0.96      0.96      0.96      2764\n",
      "\n",
      "5.3061224489795915 3.508771929824561\n"
     ]
    },
    {
     "data": {
      "text/plain": [
       "0.9569464544138929"
      ]
     },
     "execution_count": 63,
     "metadata": {},
     "output_type": "execute_result"
    }
   ],
   "source": [
    "from sklearn.tree import DecisionTreeClassifier as DTC\n",
    "dtc = DTC()\n",
    "dtc.fit(X_train,y_train)\n",
    "y_pr5 = dtc.predict(X_test)\n",
    "dec_tr = CR(y_test,y_pr5)\n",
    "print(dec_tr)\n",
    "cm = CM(y_test,y_pr5)\n",
    "# CP(y_test,y_pr)\n",
    "FPR = (cm[0][1]/(cm[0][0] + cm[0][1]))*100\n",
    "FFR = (cm[1][0]/(cm[1][0]+cm[1][1]))*100\n",
    "print(FPR,FFR)\n",
    "AS(y_test,y_pr5)"
   ]
  },
  {
   "cell_type": "markdown",
   "id": "7515e7a3",
   "metadata": {},
   "source": [
    "### ***Random Forest Classifier***"
   ]
  },
  {
   "cell_type": "code",
   "execution_count": 65,
   "id": "75d45a99",
   "metadata": {},
   "outputs": [
    {
     "name": "stdout",
     "output_type": "stream",
     "text": [
      "4.326530612244897 1.8843404808317088\n"
     ]
    },
    {
     "data": {
      "text/plain": [
       "0.9703328509406657"
      ]
     },
     "execution_count": 65,
     "metadata": {},
     "output_type": "execute_result"
    }
   ],
   "source": [
    "from sklearn.ensemble import RandomForestClassifier as RFC\n",
    "rfc = RFC(n_estimators=10,random_state=0,n_jobs=1)\n",
    "rfc.fit(X_train,y_train)\n",
    "y_pr6 = rfc.predict(X_test)\n",
    "ran_for = CR(y_test,y_pr6)\n",
    "cm = CM(y_test,y_pr6)\n",
    "# CP(y_test,y_pr)\n",
    "FPR = (cm[0][1]/(cm[0][0] + cm[0][1]))*100\n",
    "FFR = (cm[1][0]/(cm[1][0]+cm[1][1]))*100\n",
    "print(FPR,FFR)\n",
    "AS(y_test,y_pr6)"
   ]
  },
  {
   "cell_type": "markdown",
   "id": "d8f7175c",
   "metadata": {},
   "source": [
    "### ***Naïve Bayes Algorithm***"
   ]
  },
  {
   "cell_type": "code",
   "execution_count": 66,
   "id": "338782c9",
   "metadata": {},
   "outputs": [
    {
     "name": "stdout",
     "output_type": "stream",
     "text": [
      "              precision    recall  f1-score   support\n",
      "\n",
      "          -1       0.89      0.90      0.90      1225\n",
      "           1       0.92      0.91      0.92      1539\n",
      "\n",
      "    accuracy                           0.91      2764\n",
      "   macro avg       0.90      0.91      0.91      2764\n",
      "weighted avg       0.91      0.91      0.91      2764\n",
      "\n",
      "9.551020408163264 9.161793372319687\n"
     ]
    },
    {
     "data": {
      "text/plain": [
       "0.9066570188133141"
      ]
     },
     "execution_count": 66,
     "metadata": {},
     "output_type": "execute_result"
    }
   ],
   "source": [
    "from sklearn.naive_bayes import BernoulliNB as BN\n",
    "bn = BN()\n",
    "bn.fit(X_train,y_train)\n",
    "y_pr7 = bn.predict(X_test)\n",
    "ber_nb = CR(y_test,y_pr7)\n",
    "print(ber_nb)\n",
    "cm = CM(y_test,y_pr7)\n",
    "# CP(y_test,y_pr)\n",
    "FPR = (cm[0][1]/(cm[0][0] + cm[0][1]))*100\n",
    "FFR = (cm[1][0]/(cm[1][0]+cm[1][1]))*100\n",
    "print(FPR,FFR)\n",
    "AS(y_test,y_pr7)"
   ]
  },
  {
   "cell_type": "markdown",
   "id": "cc26e7e6",
   "metadata": {},
   "source": [
    "### ***Neural Network***"
   ]
  },
  {
   "cell_type": "code",
   "execution_count": 67,
   "id": "a8289e44",
   "metadata": {},
   "outputs": [],
   "source": [
    "from keras.models import Sequential\n",
    "from keras.layers import Dense\n",
    "from keras import layers\n",
    "import keras"
   ]
  },
  {
   "cell_type": "code",
   "execution_count": null,
   "id": "ac2e8965",
   "metadata": {},
   "outputs": [],
   "source": []
  },
  {
   "cell_type": "code",
   "execution_count": 74,
   "id": "e08116df",
   "metadata": {},
   "outputs": [
    {
     "data": {
      "text/plain": [
       "array([0, 1], dtype=int64)"
      ]
     },
     "execution_count": 74,
     "metadata": {},
     "output_type": "execute_result"
    }
   ],
   "source": [
    "df['Result'] = df['Result'].map({-1:0, 1:1})\n",
    "df['Result'].unique()\n"
   ]
  },
  {
   "cell_type": "code",
   "execution_count": 76,
   "id": "59d09717",
   "metadata": {},
   "outputs": [
    {
     "name": "stdout",
     "output_type": "stream",
     "text": [
      "Input shape is  [30]\n"
     ]
    },
    {
     "data": {
      "text/html": [
       "<div>\n",
       "<style scoped>\n",
       "    .dataframe tbody tr th:only-of-type {\n",
       "        vertical-align: middle;\n",
       "    }\n",
       "\n",
       "    .dataframe tbody tr th {\n",
       "        vertical-align: top;\n",
       "    }\n",
       "\n",
       "    .dataframe thead th {\n",
       "        text-align: right;\n",
       "    }\n",
       "</style>\n",
       "<table border=\"1\" class=\"dataframe\">\n",
       "  <thead>\n",
       "    <tr style=\"text-align: right;\">\n",
       "      <th></th>\n",
       "      <th>having_IP_Address</th>\n",
       "      <th>URL_Length</th>\n",
       "      <th>Shortining_Service</th>\n",
       "      <th>having_At_Symbol</th>\n",
       "      <th>double_slash_redirecting</th>\n",
       "      <th>Prefix_Suffix</th>\n",
       "      <th>having_Sub_Domain</th>\n",
       "      <th>SSLfinal_State</th>\n",
       "      <th>Domain_registeration_length</th>\n",
       "      <th>Favicon</th>\n",
       "      <th>...</th>\n",
       "      <th>RightClick</th>\n",
       "      <th>popUpWidnow</th>\n",
       "      <th>Iframe</th>\n",
       "      <th>age_of_domain</th>\n",
       "      <th>DNSRecord</th>\n",
       "      <th>web_traffic</th>\n",
       "      <th>Page_Rank</th>\n",
       "      <th>Google_Index</th>\n",
       "      <th>Links_pointing_to_page</th>\n",
       "      <th>Statistical_report</th>\n",
       "    </tr>\n",
       "  </thead>\n",
       "  <tbody>\n",
       "    <tr>\n",
       "      <th>0</th>\n",
       "      <td>-1</td>\n",
       "      <td>1</td>\n",
       "      <td>1</td>\n",
       "      <td>1</td>\n",
       "      <td>-1</td>\n",
       "      <td>-1</td>\n",
       "      <td>-1</td>\n",
       "      <td>-1</td>\n",
       "      <td>-1</td>\n",
       "      <td>1</td>\n",
       "      <td>...</td>\n",
       "      <td>1</td>\n",
       "      <td>1</td>\n",
       "      <td>1</td>\n",
       "      <td>-1</td>\n",
       "      <td>-1</td>\n",
       "      <td>-1</td>\n",
       "      <td>-1</td>\n",
       "      <td>1</td>\n",
       "      <td>1</td>\n",
       "      <td>-1</td>\n",
       "    </tr>\n",
       "    <tr>\n",
       "      <th>1</th>\n",
       "      <td>1</td>\n",
       "      <td>1</td>\n",
       "      <td>1</td>\n",
       "      <td>1</td>\n",
       "      <td>1</td>\n",
       "      <td>-1</td>\n",
       "      <td>0</td>\n",
       "      <td>1</td>\n",
       "      <td>-1</td>\n",
       "      <td>1</td>\n",
       "      <td>...</td>\n",
       "      <td>1</td>\n",
       "      <td>1</td>\n",
       "      <td>1</td>\n",
       "      <td>-1</td>\n",
       "      <td>-1</td>\n",
       "      <td>0</td>\n",
       "      <td>-1</td>\n",
       "      <td>1</td>\n",
       "      <td>1</td>\n",
       "      <td>1</td>\n",
       "    </tr>\n",
       "    <tr>\n",
       "      <th>2</th>\n",
       "      <td>1</td>\n",
       "      <td>0</td>\n",
       "      <td>1</td>\n",
       "      <td>1</td>\n",
       "      <td>1</td>\n",
       "      <td>-1</td>\n",
       "      <td>-1</td>\n",
       "      <td>-1</td>\n",
       "      <td>-1</td>\n",
       "      <td>1</td>\n",
       "      <td>...</td>\n",
       "      <td>1</td>\n",
       "      <td>1</td>\n",
       "      <td>1</td>\n",
       "      <td>1</td>\n",
       "      <td>-1</td>\n",
       "      <td>1</td>\n",
       "      <td>-1</td>\n",
       "      <td>1</td>\n",
       "      <td>0</td>\n",
       "      <td>-1</td>\n",
       "    </tr>\n",
       "    <tr>\n",
       "      <th>3</th>\n",
       "      <td>1</td>\n",
       "      <td>0</td>\n",
       "      <td>1</td>\n",
       "      <td>1</td>\n",
       "      <td>1</td>\n",
       "      <td>-1</td>\n",
       "      <td>-1</td>\n",
       "      <td>-1</td>\n",
       "      <td>1</td>\n",
       "      <td>1</td>\n",
       "      <td>...</td>\n",
       "      <td>1</td>\n",
       "      <td>1</td>\n",
       "      <td>1</td>\n",
       "      <td>-1</td>\n",
       "      <td>-1</td>\n",
       "      <td>1</td>\n",
       "      <td>-1</td>\n",
       "      <td>1</td>\n",
       "      <td>-1</td>\n",
       "      <td>1</td>\n",
       "    </tr>\n",
       "    <tr>\n",
       "      <th>4</th>\n",
       "      <td>1</td>\n",
       "      <td>0</td>\n",
       "      <td>-1</td>\n",
       "      <td>1</td>\n",
       "      <td>1</td>\n",
       "      <td>-1</td>\n",
       "      <td>1</td>\n",
       "      <td>1</td>\n",
       "      <td>-1</td>\n",
       "      <td>1</td>\n",
       "      <td>...</td>\n",
       "      <td>1</td>\n",
       "      <td>-1</td>\n",
       "      <td>1</td>\n",
       "      <td>-1</td>\n",
       "      <td>-1</td>\n",
       "      <td>0</td>\n",
       "      <td>-1</td>\n",
       "      <td>1</td>\n",
       "      <td>1</td>\n",
       "      <td>1</td>\n",
       "    </tr>\n",
       "  </tbody>\n",
       "</table>\n",
       "<p>5 rows × 30 columns</p>\n",
       "</div>"
      ],
      "text/plain": [
       "   having_IP_Address  URL_Length  Shortining_Service  having_At_Symbol  \\\n",
       "0                 -1           1                   1                 1   \n",
       "1                  1           1                   1                 1   \n",
       "2                  1           0                   1                 1   \n",
       "3                  1           0                   1                 1   \n",
       "4                  1           0                  -1                 1   \n",
       "\n",
       "   double_slash_redirecting  Prefix_Suffix  having_Sub_Domain  SSLfinal_State  \\\n",
       "0                        -1             -1                 -1              -1   \n",
       "1                         1             -1                  0               1   \n",
       "2                         1             -1                 -1              -1   \n",
       "3                         1             -1                 -1              -1   \n",
       "4                         1             -1                  1               1   \n",
       "\n",
       "   Domain_registeration_length  Favicon  ...  RightClick  popUpWidnow  Iframe  \\\n",
       "0                           -1        1  ...           1            1       1   \n",
       "1                           -1        1  ...           1            1       1   \n",
       "2                           -1        1  ...           1            1       1   \n",
       "3                            1        1  ...           1            1       1   \n",
       "4                           -1        1  ...           1           -1       1   \n",
       "\n",
       "   age_of_domain  DNSRecord  web_traffic  Page_Rank  Google_Index  \\\n",
       "0             -1         -1           -1         -1             1   \n",
       "1             -1         -1            0         -1             1   \n",
       "2              1         -1            1         -1             1   \n",
       "3             -1         -1            1         -1             1   \n",
       "4             -1         -1            0         -1             1   \n",
       "\n",
       "   Links_pointing_to_page  Statistical_report  \n",
       "0                       1                  -1  \n",
       "1                       1                   1  \n",
       "2                       0                  -1  \n",
       "3                      -1                   1  \n",
       "4                       1                   1  \n",
       "\n",
       "[5 rows x 30 columns]"
      ]
     },
     "execution_count": 76,
     "metadata": {},
     "output_type": "execute_result"
    }
   ],
   "source": [
    "X = df.copy()\n",
    "\n",
    "y = X.pop('Result')\n",
    "\n",
    "X = df.drop(columns=['Result'])\n",
    "\n",
    "y\n",
    "X_train,X_test,y_train,y_test = tts(X,y,stratify=y,test_size=0.25)\n",
    "input_shape = [X_train.shape[1]]\n",
    "print(\"Input shape is \", input_shape)\n",
    "X.head()"
   ]
  },
  {
   "cell_type": "code",
   "execution_count": 77,
   "id": "343d0387",
   "metadata": {},
   "outputs": [],
   "source": [
    "model = Sequential([\n",
    "    layers.BatchNormalization(input_shape=input_shape),\n",
    "    Dense(512, activation='relu'),\n",
    "    layers.BatchNormalization(),\n",
    "    layers.Dropout(0.3),\n",
    "    Dense(512, activation='relu'),\n",
    "    layers.BatchNormalization(),\n",
    "    layers.Dropout(0.3),\n",
    "    Dense(1, activation='sigmoid'),\n",
    "])"
   ]
  },
  {
   "cell_type": "code",
   "execution_count": 78,
   "id": "1f4fa89c",
   "metadata": {},
   "outputs": [],
   "source": [
    "model.compile(\n",
    "    optimizer='adam',\n",
    "    loss='binary_crossentropy',\n",
    "    metrics=['accuracy',keras.metrics.Precision(),keras.metrics.Recall()],\n",
    "    \n",
    ")"
   ]
  },
  {
   "cell_type": "code",
   "execution_count": 79,
   "id": "a50df3b8",
   "metadata": {},
   "outputs": [
    {
     "name": "stdout",
     "output_type": "stream",
     "text": [
      "Epoch 1/100\n",
      "130/130 [==============================] - 6s 24ms/step - loss: 0.2296 - accuracy: 0.9094 - precision_3: 0.9184 - recall_3: 0.9190 - val_loss: 0.2217 - val_accuracy: 0.9367 - val_precision_3: 0.9118 - val_recall_3: 0.9812\n",
      "Epoch 2/100\n",
      "130/130 [==============================] - 2s 16ms/step - loss: 0.1680 - accuracy: 0.9303 - precision_3: 0.9342 - recall_3: 0.9411 - val_loss: 0.1398 - val_accuracy: 0.9501 - val_precision_3: 0.9359 - val_recall_3: 0.9773\n",
      "Epoch 3/100\n",
      "130/130 [==============================] - 2s 16ms/step - loss: 0.1513 - accuracy: 0.9374 - precision_3: 0.9371 - recall_3: 0.9515 - val_loss: 0.1245 - val_accuracy: 0.9504 - val_precision_3: 0.9618 - val_recall_3: 0.9487\n",
      "Epoch 4/100\n",
      "130/130 [==============================] - 2s 16ms/step - loss: 0.1282 - accuracy: 0.9467 - precision_3: 0.9498 - recall_3: 0.9547 - val_loss: 0.1010 - val_accuracy: 0.9580 - val_precision_3: 0.9576 - val_recall_3: 0.9675\n",
      "Epoch 5/100\n",
      "130/130 [==============================] - 2s 16ms/step - loss: 0.1188 - accuracy: 0.9501 - precision_3: 0.9509 - recall_3: 0.9599 - val_loss: 0.0933 - val_accuracy: 0.9635 - val_precision_3: 0.9539 - val_recall_3: 0.9818\n",
      "Epoch 6/100\n",
      "130/130 [==============================] - 2s 17ms/step - loss: 0.1150 - accuracy: 0.9538 - precision_3: 0.9545 - recall_3: 0.9630 - val_loss: 0.0955 - val_accuracy: 0.9627 - val_precision_3: 0.9608 - val_recall_3: 0.9727\n",
      "Epoch 7/100\n",
      "130/130 [==============================] - 2s 16ms/step - loss: 0.1001 - accuracy: 0.9592 - precision_3: 0.9582 - recall_3: 0.9690 - val_loss: 0.1026 - val_accuracy: 0.9591 - val_precision_3: 0.9507 - val_recall_3: 0.9773\n",
      "Epoch 8/100\n",
      "130/130 [==============================] - 2s 19ms/step - loss: 0.0986 - accuracy: 0.9597 - precision_3: 0.9624 - recall_3: 0.9654 - val_loss: 0.0891 - val_accuracy: 0.9627 - val_precision_3: 0.9567 - val_recall_3: 0.9773\n",
      "Epoch 9/100\n",
      "130/130 [==============================] - 2s 16ms/step - loss: 0.1011 - accuracy: 0.9586 - precision_3: 0.9628 - recall_3: 0.9630 - val_loss: 0.0899 - val_accuracy: 0.9627 - val_precision_3: 0.9488 - val_recall_3: 0.9864\n",
      "Epoch 10/100\n",
      "130/130 [==============================] - 2s 17ms/step - loss: 0.0919 - accuracy: 0.9629 - precision_3: 0.9644 - recall_3: 0.9690 - val_loss: 0.0861 - val_accuracy: 0.9649 - val_precision_3: 0.9634 - val_recall_3: 0.9740\n",
      "Epoch 11/100\n",
      "130/130 [==============================] - 2s 17ms/step - loss: 0.0923 - accuracy: 0.9612 - precision_3: 0.9625 - recall_3: 0.9680 - val_loss: 0.0899 - val_accuracy: 0.9656 - val_precision_3: 0.9593 - val_recall_3: 0.9799\n",
      "Epoch 12/100\n",
      "130/130 [==============================] - 2s 17ms/step - loss: 0.0889 - accuracy: 0.9657 - precision_3: 0.9672 - recall_3: 0.9714 - val_loss: 0.0814 - val_accuracy: 0.9631 - val_precision_3: 0.9743 - val_recall_3: 0.9591\n",
      "Epoch 13/100\n",
      "130/130 [==============================] - 2s 16ms/step - loss: 0.0835 - accuracy: 0.9639 - precision_3: 0.9661 - recall_3: 0.9693 - val_loss: 0.0881 - val_accuracy: 0.9649 - val_precision_3: 0.9658 - val_recall_3: 0.9714\n",
      "Epoch 14/100\n",
      "130/130 [==============================] - 2s 17ms/step - loss: 0.0870 - accuracy: 0.9637 - precision_3: 0.9669 - recall_3: 0.9680 - val_loss: 0.0803 - val_accuracy: 0.9664 - val_precision_3: 0.9732 - val_recall_3: 0.9662\n",
      "Epoch 15/100\n",
      "130/130 [==============================] - 2s 16ms/step - loss: 0.0856 - accuracy: 0.9624 - precision_3: 0.9640 - recall_3: 0.9686 - val_loss: 0.0785 - val_accuracy: 0.9653 - val_precision_3: 0.9700 - val_recall_3: 0.9675\n",
      "Epoch 16/100\n",
      "130/130 [==============================] - 2s 16ms/step - loss: 0.0782 - accuracy: 0.9661 - precision_3: 0.9677 - recall_3: 0.9716 - val_loss: 0.0861 - val_accuracy: 0.9667 - val_precision_3: 0.9769 - val_recall_3: 0.9630\n",
      "Epoch 17/100\n",
      "130/130 [==============================] - 2s 19ms/step - loss: 0.0800 - accuracy: 0.9654 - precision_3: 0.9668 - recall_3: 0.9712 - val_loss: 0.0850 - val_accuracy: 0.9631 - val_precision_3: 0.9736 - val_recall_3: 0.9597\n",
      "Epoch 18/100\n",
      "130/130 [==============================] - 2s 18ms/step - loss: 0.0814 - accuracy: 0.9662 - precision_3: 0.9691 - recall_3: 0.9703 - val_loss: 0.0781 - val_accuracy: 0.9732 - val_precision_3: 0.9687 - val_recall_3: 0.9838\n",
      "Epoch 19/100\n",
      "130/130 [==============================] - 2s 17ms/step - loss: 0.0760 - accuracy: 0.9690 - precision_3: 0.9711 - recall_3: 0.9734 - val_loss: 0.0760 - val_accuracy: 0.9747 - val_precision_3: 0.9742 - val_recall_3: 0.9805\n",
      "Epoch 20/100\n",
      "130/130 [==============================] - 2s 17ms/step - loss: 0.0770 - accuracy: 0.9680 - precision_3: 0.9702 - recall_3: 0.9725 - val_loss: 0.0778 - val_accuracy: 0.9689 - val_precision_3: 0.9721 - val_recall_3: 0.9721\n",
      "Epoch 21/100\n",
      "130/130 [==============================] - 3s 20ms/step - loss: 0.0728 - accuracy: 0.9698 - precision_3: 0.9717 - recall_3: 0.9742 - val_loss: 0.0730 - val_accuracy: 0.9696 - val_precision_3: 0.9727 - val_recall_3: 0.9727\n",
      "Epoch 22/100\n",
      "130/130 [==============================] - 2s 17ms/step - loss: 0.0689 - accuracy: 0.9721 - precision_3: 0.9743 - recall_3: 0.9757 - val_loss: 0.0803 - val_accuracy: 0.9678 - val_precision_3: 0.9720 - val_recall_3: 0.9701\n",
      "Epoch 23/100\n",
      "130/130 [==============================] - 2s 14ms/step - loss: 0.0698 - accuracy: 0.9719 - precision_3: 0.9738 - recall_3: 0.9757 - val_loss: 0.0761 - val_accuracy: 0.9718 - val_precision_3: 0.9662 - val_recall_3: 0.9838\n",
      "Epoch 24/100\n",
      "130/130 [==============================] - 2s 14ms/step - loss: 0.0707 - accuracy: 0.9729 - precision_3: 0.9751 - recall_3: 0.9762 - val_loss: 0.0698 - val_accuracy: 0.9743 - val_precision_3: 0.9687 - val_recall_3: 0.9857\n",
      "Epoch 25/100\n",
      "130/130 [==============================] - 2s 15ms/step - loss: 0.0710 - accuracy: 0.9695 - precision_3: 0.9737 - recall_3: 0.9714 - val_loss: 0.0730 - val_accuracy: 0.9692 - val_precision_3: 0.9709 - val_recall_3: 0.9740\n",
      "Epoch 26/100\n",
      "130/130 [==============================] - 2s 14ms/step - loss: 0.0655 - accuracy: 0.9713 - precision_3: 0.9736 - recall_3: 0.9749 - val_loss: 0.0748 - val_accuracy: 0.9721 - val_precision_3: 0.9650 - val_recall_3: 0.9857\n",
      "Epoch 27/100\n",
      "130/130 [==============================] - 2s 14ms/step - loss: 0.0649 - accuracy: 0.9747 - precision_3: 0.9766 - recall_3: 0.9779 - val_loss: 0.0732 - val_accuracy: 0.9758 - val_precision_3: 0.9688 - val_recall_3: 0.9883\n",
      "Epoch 28/100\n",
      "130/130 [==============================] - 2s 15ms/step - loss: 0.0682 - accuracy: 0.9726 - precision_3: 0.9751 - recall_3: 0.9757 - val_loss: 0.0855 - val_accuracy: 0.9707 - val_precision_3: 0.9596 - val_recall_3: 0.9890\n",
      "Epoch 29/100\n",
      "130/130 [==============================] - 2s 14ms/step - loss: 0.0694 - accuracy: 0.9715 - precision_3: 0.9722 - recall_3: 0.9768 - val_loss: 0.0723 - val_accuracy: 0.9754 - val_precision_3: 0.9694 - val_recall_3: 0.9870\n",
      "Epoch 30/100\n",
      "130/130 [==============================] - 2s 15ms/step - loss: 0.0676 - accuracy: 0.9725 - precision_3: 0.9757 - recall_3: 0.9749 - val_loss: 0.0717 - val_accuracy: 0.9736 - val_precision_3: 0.9699 - val_recall_3: 0.9831\n",
      "Epoch 31/100\n",
      "130/130 [==============================] - 2s 15ms/step - loss: 0.0594 - accuracy: 0.9744 - precision_3: 0.9777 - recall_3: 0.9764 - val_loss: 0.0667 - val_accuracy: 0.9743 - val_precision_3: 0.9772 - val_recall_3: 0.9766\n",
      "Epoch 32/100\n",
      "130/130 [==============================] - 2s 15ms/step - loss: 0.0655 - accuracy: 0.9729 - precision_3: 0.9764 - recall_3: 0.9749 - val_loss: 0.0645 - val_accuracy: 0.9758 - val_precision_3: 0.9712 - val_recall_3: 0.9857\n",
      "Epoch 33/100\n",
      "130/130 [==============================] - 2s 16ms/step - loss: 0.0609 - accuracy: 0.9746 - precision_3: 0.9752 - recall_3: 0.9792 - val_loss: 0.0662 - val_accuracy: 0.9725 - val_precision_3: 0.9716 - val_recall_3: 0.9792\n",
      "Epoch 34/100\n",
      "130/130 [==============================] - 2s 13ms/step - loss: 0.0608 - accuracy: 0.9756 - precision_3: 0.9765 - recall_3: 0.9799 - val_loss: 0.0725 - val_accuracy: 0.9740 - val_precision_3: 0.9651 - val_recall_3: 0.9890\n",
      "Epoch 35/100\n",
      "130/130 [==============================] - 2s 15ms/step - loss: 0.0550 - accuracy: 0.9779 - precision_3: 0.9784 - recall_3: 0.9820 - val_loss: 0.0704 - val_accuracy: 0.9740 - val_precision_3: 0.9705 - val_recall_3: 0.9831\n",
      "Epoch 36/100\n",
      "130/130 [==============================] - 2s 15ms/step - loss: 0.0637 - accuracy: 0.9731 - precision_3: 0.9749 - recall_3: 0.9768 - val_loss: 0.0706 - val_accuracy: 0.9729 - val_precision_3: 0.9723 - val_recall_3: 0.9792\n",
      "Epoch 37/100\n",
      "130/130 [==============================] - 2s 15ms/step - loss: 0.0586 - accuracy: 0.9752 - precision_3: 0.9744 - recall_3: 0.9812 - val_loss: 0.0753 - val_accuracy: 0.9729 - val_precision_3: 0.9772 - val_recall_3: 0.9740\n",
      "Epoch 38/100\n",
      "130/130 [==============================] - 2s 13ms/step - loss: 0.0592 - accuracy: 0.9759 - precision_3: 0.9773 - recall_3: 0.9794 - val_loss: 0.0730 - val_accuracy: 0.9736 - val_precision_3: 0.9705 - val_recall_3: 0.9825\n",
      "Epoch 39/100\n",
      "130/130 [==============================] - 2s 13ms/step - loss: 0.0611 - accuracy: 0.9738 - precision_3: 0.9750 - recall_3: 0.9781 - val_loss: 0.0707 - val_accuracy: 0.9721 - val_precision_3: 0.9710 - val_recall_3: 0.9792\n",
      "Epoch 40/100\n",
      "130/130 [==============================] - 2s 15ms/step - loss: 0.0603 - accuracy: 0.9764 - precision_3: 0.9777 - recall_3: 0.9799 - val_loss: 0.0782 - val_accuracy: 0.9725 - val_precision_3: 0.9759 - val_recall_3: 0.9747\n",
      "Epoch 41/100\n",
      "130/130 [==============================] - 2s 14ms/step - loss: 0.0551 - accuracy: 0.9759 - precision_3: 0.9771 - recall_3: 0.9796 - val_loss: 0.0730 - val_accuracy: 0.9725 - val_precision_3: 0.9772 - val_recall_3: 0.9734\n",
      "Epoch 42/100\n",
      "130/130 [==============================] - 2s 16ms/step - loss: 0.0564 - accuracy: 0.9762 - precision_3: 0.9775 - recall_3: 0.9799 - val_loss: 0.0707 - val_accuracy: 0.9765 - val_precision_3: 0.9718 - val_recall_3: 0.9864\n",
      "Epoch 43/100\n",
      "130/130 [==============================] - 2s 15ms/step - loss: 0.0515 - accuracy: 0.9770 - precision_3: 0.9786 - recall_3: 0.9801 - val_loss: 0.0711 - val_accuracy: 0.9754 - val_precision_3: 0.9798 - val_recall_3: 0.9760\n",
      "Epoch 44/100\n",
      "130/130 [==============================] - 2s 15ms/step - loss: 0.0562 - accuracy: 0.9767 - precision_3: 0.9780 - recall_3: 0.9803 - val_loss: 0.0732 - val_accuracy: 0.9743 - val_precision_3: 0.9785 - val_recall_3: 0.9753\n",
      "Epoch 45/100\n",
      "130/130 [==============================] - 2s 15ms/step - loss: 0.0574 - accuracy: 0.9750 - precision_3: 0.9762 - recall_3: 0.9790 - val_loss: 0.0700 - val_accuracy: 0.9732 - val_precision_3: 0.9816 - val_recall_3: 0.9701\n",
      "Epoch 46/100\n",
      "130/130 [==============================] - 2s 15ms/step - loss: 0.0553 - accuracy: 0.9764 - precision_3: 0.9804 - recall_3: 0.9770 - val_loss: 0.0663 - val_accuracy: 0.9754 - val_precision_3: 0.9712 - val_recall_3: 0.9851\n",
      "Epoch 47/100\n",
      "130/130 [==============================] - 2s 14ms/step - loss: 0.0536 - accuracy: 0.9762 - precision_3: 0.9765 - recall_3: 0.9809 - val_loss: 0.0725 - val_accuracy: 0.9740 - val_precision_3: 0.9804 - val_recall_3: 0.9727\n",
      "Epoch 48/100\n",
      "130/130 [==============================] - 2s 15ms/step - loss: 0.0546 - accuracy: 0.9780 - precision_3: 0.9807 - recall_3: 0.9799 - val_loss: 0.0654 - val_accuracy: 0.9765 - val_precision_3: 0.9718 - val_recall_3: 0.9864\n",
      "Epoch 49/100\n",
      "130/130 [==============================] - 2s 15ms/step - loss: 0.0566 - accuracy: 0.9752 - precision_3: 0.9767 - recall_3: 0.9788 - val_loss: 0.0729 - val_accuracy: 0.9776 - val_precision_3: 0.9695 - val_recall_3: 0.9909\n",
      "Epoch 50/100\n",
      "130/130 [==============================] - 2s 15ms/step - loss: 0.0488 - accuracy: 0.9795 - precision_3: 0.9818 - recall_3: 0.9814 - val_loss: 0.0749 - val_accuracy: 0.9736 - val_precision_3: 0.9705 - val_recall_3: 0.9825\n",
      "Epoch 51/100\n",
      "130/130 [==============================] - 2s 18ms/step - loss: 0.0499 - accuracy: 0.9783 - precision_3: 0.9799 - recall_3: 0.9812 - val_loss: 0.0692 - val_accuracy: 0.9740 - val_precision_3: 0.9748 - val_recall_3: 0.9786\n"
     ]
    }
   ],
   "source": [
    "early_stopping = keras.callbacks.EarlyStopping(\n",
    "    patience=20,\n",
    "    min_delta=0.01,\n",
    "    restore_best_weights=True,\n",
    ")\n",
    "history = model.fit(\n",
    "    X_train, y_train,\n",
    "    validation_data=(X_test, y_test),\n",
    "    batch_size=64,\n",
    "    epochs=100,\n",
    "    callbacks=[early_stopping],\n",
    ")"
   ]
  },
  {
   "cell_type": "code",
   "execution_count": 80,
   "id": "c04e604e",
   "metadata": {},
   "outputs": [
    {
     "ename": "KeyError",
     "evalue": "\"None of [Index(['binary_accuracy', 'val_binary_accuracy'], dtype='object')] are in the [columns]\"",
     "output_type": "error",
     "traceback": [
      "\u001b[1;31m---------------------------------------------------------------------------\u001b[0m",
      "\u001b[1;31mKeyError\u001b[0m                                  Traceback (most recent call last)",
      "Cell \u001b[1;32mIn [80], line 3\u001b[0m\n\u001b[0;32m      1\u001b[0m history_df \u001b[39m=\u001b[39m pd\u001b[39m.\u001b[39mDataFrame(history\u001b[39m.\u001b[39mhistory)\n\u001b[0;32m      2\u001b[0m history_df\u001b[39m.\u001b[39mloc[\u001b[39m0\u001b[39m:, [\u001b[39m'\u001b[39m\u001b[39mloss\u001b[39m\u001b[39m'\u001b[39m, \u001b[39m'\u001b[39m\u001b[39mval_loss\u001b[39m\u001b[39m'\u001b[39m]]\u001b[39m.\u001b[39mplot()\n\u001b[1;32m----> 3\u001b[0m history_df\u001b[39m.\u001b[39;49mloc[\u001b[39m0\u001b[39;49m:, [\u001b[39m'\u001b[39;49m\u001b[39mbinary_accuracy\u001b[39;49m\u001b[39m'\u001b[39;49m, \u001b[39m'\u001b[39;49m\u001b[39mval_binary_accuracy\u001b[39;49m\u001b[39m'\u001b[39;49m]]\u001b[39m.\u001b[39mplot()\n\u001b[0;32m      4\u001b[0m \u001b[39mprint\u001b[39m(history_df)\n\u001b[0;32m      5\u001b[0m \u001b[39mprint\u001b[39m(\u001b[39mf\u001b[39m\u001b[39m\"\u001b[39m\u001b[39mBest Validation Loss: \u001b[39m\u001b[39m{\u001b[39;00mhistory_df[\u001b[39m'\u001b[39m\u001b[39mval_loss\u001b[39m\u001b[39m'\u001b[39m]\u001b[39m.\u001b[39mmin()\u001b[39m}\u001b[39;00m\u001b[39m\"\u001b[39m \u001b[39m+\u001b[39m\\\n\u001b[0;32m      6\u001b[0m       \u001b[39mf\u001b[39m\u001b[39m\"\u001b[39m\u001b[39m\\n\u001b[39;00m\u001b[39mBest Validation Accuracy: \u001b[39m\u001b[39m{\u001b[39;00mhistory_df[\u001b[39m'\u001b[39m\u001b[39mval_binary_accuracy\u001b[39m\u001b[39m'\u001b[39m]\u001b[39m.\u001b[39mmax()\u001b[39m}\u001b[39;00m\u001b[39m\"\u001b[39m\u001b[39m+\u001b[39m\\\n\u001b[0;32m      7\u001b[0m       \u001b[39mf\u001b[39m\u001b[39m\"\u001b[39m\u001b[39m\\n\u001b[39;00m\u001b[39mBest Recall: \u001b[39m\u001b[39m{\u001b[39;00mhistory_df[\u001b[39m'\u001b[39m\u001b[39mval_recall\u001b[39m\u001b[39m'\u001b[39m]\u001b[39m.\u001b[39mmax()\u001b[39m}\u001b[39;00m\u001b[39m\"\u001b[39m \u001b[39m+\u001b[39m\\\n\u001b[0;32m      8\u001b[0m       \u001b[39mf\u001b[39m\u001b[39m\"\u001b[39m\u001b[39m\\n\u001b[39;00m\u001b[39mBest Precision: \u001b[39m\u001b[39m{\u001b[39;00mhistory_df[\u001b[39m'\u001b[39m\u001b[39mval_precision\u001b[39m\u001b[39m'\u001b[39m]\u001b[39m.\u001b[39mmax()\u001b[39m}\u001b[39;00m\u001b[39m\"\u001b[39m\n\u001b[0;32m      9\u001b[0m )\n",
      "File \u001b[1;32mc:\\Users\\shiva\\AppData\\Local\\Programs\\Python\\Python310\\lib\\site-packages\\pandas\\core\\indexing.py:1067\u001b[0m, in \u001b[0;36m_LocationIndexer.__getitem__\u001b[1;34m(self, key)\u001b[0m\n\u001b[0;32m   1065\u001b[0m     \u001b[39mif\u001b[39;00m \u001b[39mself\u001b[39m\u001b[39m.\u001b[39m_is_scalar_access(key):\n\u001b[0;32m   1066\u001b[0m         \u001b[39mreturn\u001b[39;00m \u001b[39mself\u001b[39m\u001b[39m.\u001b[39mobj\u001b[39m.\u001b[39m_get_value(\u001b[39m*\u001b[39mkey, takeable\u001b[39m=\u001b[39m\u001b[39mself\u001b[39m\u001b[39m.\u001b[39m_takeable)\n\u001b[1;32m-> 1067\u001b[0m     \u001b[39mreturn\u001b[39;00m \u001b[39mself\u001b[39;49m\u001b[39m.\u001b[39;49m_getitem_tuple(key)\n\u001b[0;32m   1068\u001b[0m \u001b[39melse\u001b[39;00m:\n\u001b[0;32m   1069\u001b[0m     \u001b[39m# we by definition only have the 0th axis\u001b[39;00m\n\u001b[0;32m   1070\u001b[0m     axis \u001b[39m=\u001b[39m \u001b[39mself\u001b[39m\u001b[39m.\u001b[39maxis \u001b[39mor\u001b[39;00m \u001b[39m0\u001b[39m\n",
      "File \u001b[1;32mc:\\Users\\shiva\\AppData\\Local\\Programs\\Python\\Python310\\lib\\site-packages\\pandas\\core\\indexing.py:1256\u001b[0m, in \u001b[0;36m_LocIndexer._getitem_tuple\u001b[1;34m(self, tup)\u001b[0m\n\u001b[0;32m   1253\u001b[0m \u001b[39mif\u001b[39;00m \u001b[39mself\u001b[39m\u001b[39m.\u001b[39m_multi_take_opportunity(tup):\n\u001b[0;32m   1254\u001b[0m     \u001b[39mreturn\u001b[39;00m \u001b[39mself\u001b[39m\u001b[39m.\u001b[39m_multi_take(tup)\n\u001b[1;32m-> 1256\u001b[0m \u001b[39mreturn\u001b[39;00m \u001b[39mself\u001b[39;49m\u001b[39m.\u001b[39;49m_getitem_tuple_same_dim(tup)\n",
      "File \u001b[1;32mc:\\Users\\shiva\\AppData\\Local\\Programs\\Python\\Python310\\lib\\site-packages\\pandas\\core\\indexing.py:924\u001b[0m, in \u001b[0;36m_LocationIndexer._getitem_tuple_same_dim\u001b[1;34m(self, tup)\u001b[0m\n\u001b[0;32m    921\u001b[0m \u001b[39mif\u001b[39;00m com\u001b[39m.\u001b[39mis_null_slice(key):\n\u001b[0;32m    922\u001b[0m     \u001b[39mcontinue\u001b[39;00m\n\u001b[1;32m--> 924\u001b[0m retval \u001b[39m=\u001b[39m \u001b[39mgetattr\u001b[39;49m(retval, \u001b[39mself\u001b[39;49m\u001b[39m.\u001b[39;49mname)\u001b[39m.\u001b[39;49m_getitem_axis(key, axis\u001b[39m=\u001b[39;49mi)\n\u001b[0;32m    925\u001b[0m \u001b[39m# We should never have retval.ndim < self.ndim, as that should\u001b[39;00m\n\u001b[0;32m    926\u001b[0m \u001b[39m#  be handled by the _getitem_lowerdim call above.\u001b[39;00m\n\u001b[0;32m    927\u001b[0m \u001b[39massert\u001b[39;00m retval\u001b[39m.\u001b[39mndim \u001b[39m==\u001b[39m \u001b[39mself\u001b[39m\u001b[39m.\u001b[39mndim\n",
      "File \u001b[1;32mc:\\Users\\shiva\\AppData\\Local\\Programs\\Python\\Python310\\lib\\site-packages\\pandas\\core\\indexing.py:1301\u001b[0m, in \u001b[0;36m_LocIndexer._getitem_axis\u001b[1;34m(self, key, axis)\u001b[0m\n\u001b[0;32m   1298\u001b[0m     \u001b[39mif\u001b[39;00m \u001b[39mhasattr\u001b[39m(key, \u001b[39m\"\u001b[39m\u001b[39mndim\u001b[39m\u001b[39m\"\u001b[39m) \u001b[39mand\u001b[39;00m key\u001b[39m.\u001b[39mndim \u001b[39m>\u001b[39m \u001b[39m1\u001b[39m:\n\u001b[0;32m   1299\u001b[0m         \u001b[39mraise\u001b[39;00m \u001b[39mValueError\u001b[39;00m(\u001b[39m\"\u001b[39m\u001b[39mCannot index with multidimensional key\u001b[39m\u001b[39m\"\u001b[39m)\n\u001b[1;32m-> 1301\u001b[0m     \u001b[39mreturn\u001b[39;00m \u001b[39mself\u001b[39;49m\u001b[39m.\u001b[39;49m_getitem_iterable(key, axis\u001b[39m=\u001b[39;49maxis)\n\u001b[0;32m   1303\u001b[0m \u001b[39m# nested tuple slicing\u001b[39;00m\n\u001b[0;32m   1304\u001b[0m \u001b[39mif\u001b[39;00m is_nested_tuple(key, labels):\n",
      "File \u001b[1;32mc:\\Users\\shiva\\AppData\\Local\\Programs\\Python\\Python310\\lib\\site-packages\\pandas\\core\\indexing.py:1239\u001b[0m, in \u001b[0;36m_LocIndexer._getitem_iterable\u001b[1;34m(self, key, axis)\u001b[0m\n\u001b[0;32m   1236\u001b[0m \u001b[39mself\u001b[39m\u001b[39m.\u001b[39m_validate_key(key, axis)\n\u001b[0;32m   1238\u001b[0m \u001b[39m# A collection of keys\u001b[39;00m\n\u001b[1;32m-> 1239\u001b[0m keyarr, indexer \u001b[39m=\u001b[39m \u001b[39mself\u001b[39;49m\u001b[39m.\u001b[39;49m_get_listlike_indexer(key, axis)\n\u001b[0;32m   1240\u001b[0m \u001b[39mreturn\u001b[39;00m \u001b[39mself\u001b[39m\u001b[39m.\u001b[39mobj\u001b[39m.\u001b[39m_reindex_with_indexers(\n\u001b[0;32m   1241\u001b[0m     {axis: [keyarr, indexer]}, copy\u001b[39m=\u001b[39m\u001b[39mTrue\u001b[39;00m, allow_dups\u001b[39m=\u001b[39m\u001b[39mTrue\u001b[39;00m\n\u001b[0;32m   1242\u001b[0m )\n",
      "File \u001b[1;32mc:\\Users\\shiva\\AppData\\Local\\Programs\\Python\\Python310\\lib\\site-packages\\pandas\\core\\indexing.py:1432\u001b[0m, in \u001b[0;36m_LocIndexer._get_listlike_indexer\u001b[1;34m(self, key, axis)\u001b[0m\n\u001b[0;32m   1429\u001b[0m ax \u001b[39m=\u001b[39m \u001b[39mself\u001b[39m\u001b[39m.\u001b[39mobj\u001b[39m.\u001b[39m_get_axis(axis)\n\u001b[0;32m   1430\u001b[0m axis_name \u001b[39m=\u001b[39m \u001b[39mself\u001b[39m\u001b[39m.\u001b[39mobj\u001b[39m.\u001b[39m_get_axis_name(axis)\n\u001b[1;32m-> 1432\u001b[0m keyarr, indexer \u001b[39m=\u001b[39m ax\u001b[39m.\u001b[39;49m_get_indexer_strict(key, axis_name)\n\u001b[0;32m   1434\u001b[0m \u001b[39mreturn\u001b[39;00m keyarr, indexer\n",
      "File \u001b[1;32mc:\\Users\\shiva\\AppData\\Local\\Programs\\Python\\Python310\\lib\\site-packages\\pandas\\core\\indexes\\base.py:6111\u001b[0m, in \u001b[0;36mIndex._get_indexer_strict\u001b[1;34m(self, key, axis_name)\u001b[0m\n\u001b[0;32m   6108\u001b[0m \u001b[39melse\u001b[39;00m:\n\u001b[0;32m   6109\u001b[0m     keyarr, indexer, new_indexer \u001b[39m=\u001b[39m \u001b[39mself\u001b[39m\u001b[39m.\u001b[39m_reindex_non_unique(keyarr)\n\u001b[1;32m-> 6111\u001b[0m \u001b[39mself\u001b[39;49m\u001b[39m.\u001b[39;49m_raise_if_missing(keyarr, indexer, axis_name)\n\u001b[0;32m   6113\u001b[0m keyarr \u001b[39m=\u001b[39m \u001b[39mself\u001b[39m\u001b[39m.\u001b[39mtake(indexer)\n\u001b[0;32m   6114\u001b[0m \u001b[39mif\u001b[39;00m \u001b[39misinstance\u001b[39m(key, Index):\n\u001b[0;32m   6115\u001b[0m     \u001b[39m# GH 42790 - Preserve name from an Index\u001b[39;00m\n",
      "File \u001b[1;32mc:\\Users\\shiva\\AppData\\Local\\Programs\\Python\\Python310\\lib\\site-packages\\pandas\\core\\indexes\\base.py:6171\u001b[0m, in \u001b[0;36mIndex._raise_if_missing\u001b[1;34m(self, key, indexer, axis_name)\u001b[0m\n\u001b[0;32m   6169\u001b[0m     \u001b[39mif\u001b[39;00m use_interval_msg:\n\u001b[0;32m   6170\u001b[0m         key \u001b[39m=\u001b[39m \u001b[39mlist\u001b[39m(key)\n\u001b[1;32m-> 6171\u001b[0m     \u001b[39mraise\u001b[39;00m \u001b[39mKeyError\u001b[39;00m(\u001b[39mf\u001b[39m\u001b[39m\"\u001b[39m\u001b[39mNone of [\u001b[39m\u001b[39m{\u001b[39;00mkey\u001b[39m}\u001b[39;00m\u001b[39m] are in the [\u001b[39m\u001b[39m{\u001b[39;00maxis_name\u001b[39m}\u001b[39;00m\u001b[39m]\u001b[39m\u001b[39m\"\u001b[39m)\n\u001b[0;32m   6173\u001b[0m not_found \u001b[39m=\u001b[39m \u001b[39mlist\u001b[39m(ensure_index(key)[missing_mask\u001b[39m.\u001b[39mnonzero()[\u001b[39m0\u001b[39m]]\u001b[39m.\u001b[39munique())\n\u001b[0;32m   6174\u001b[0m \u001b[39mraise\u001b[39;00m \u001b[39mKeyError\u001b[39;00m(\u001b[39mf\u001b[39m\u001b[39m\"\u001b[39m\u001b[39m{\u001b[39;00mnot_found\u001b[39m}\u001b[39;00m\u001b[39m not in index\u001b[39m\u001b[39m\"\u001b[39m)\n",
      "\u001b[1;31mKeyError\u001b[0m: \"None of [Index(['binary_accuracy', 'val_binary_accuracy'], dtype='object')] are in the [columns]\""
     ]
    },
    {
     "data": {
      "image/png": "[encoded data removed]",
      "image/svg+xml": "<?xml version=\"1.0\" encoding=\"utf-8\" standalone=\"no\"?>\n<!DOCTYPE svg PUBLIC \"-//W3C//DTD SVG 1.1//EN\"\n  \"http://www.w3.org/Graphics/SVG/1.1/DTD/svg11.dtd\">\n<svg xmlns:xlink=\"http://www.w3.org/1999/xlink\" width=\"407.148125pt\" height=\"297.190125pt\" viewBox=\"0 0 407.148125 297.190125\" xmlns=\"http://www.w3.org/2000/svg\" version=\"1.1\">\n <metadata>\n  <rdf:RDF xmlns:dc=\"http://purl.org/dc/elements/1.1/\" xmlns:cc=\"http://creativecommons.org/ns#\" xmlns:rdf=\"http://www.w3.org/1999/02/22-rdf-syntax-ns#\">\n   <cc:Work>\n    <dc:type rdf:resource=\"http://purl.org/dc/dcmitype/StillImage\"/>\n    <dc:date>2022-12-26T17:07:24.501874</dc:date>\n    <dc:format>image/svg+xml</dc:format>\n    <dc:creator>\n     <cc:Agent>\n      <dc:title>Matplotlib v3.6.2, https://matplotlib.org/</dc:title>\n     </cc:Agent>\n    </dc:creator>\n   </cc:Work>\n  </rdf:RDF>\n </metadata>\n <defs>\n  <style type=\"text/css\">*{stroke-linejoin: round; stroke-linecap: butt}</style>\n </defs>\n <g id=\"figure_1\">\n  <g id=\"patch_1\">\n   <path d=\"M 0 297.190125 \nL 407.148125 297.190125 \nL 407.148125 0 \nL 0 0 \nz\n\" style=\"fill: #ffffff\"/>\n  </g>\n  <g id=\"axes_1\">\n   <g id=\"patch_2\">\n    <path d=\"M 42.828125 273.312 \nL 399.948125 273.312 \nL 399.948125 7.2 \nL 42.828125 7.2 \nz\n\" style=\"fill: #ffffff\"/>\n   </g>\n   <g id=\"matplotlib.axis_1\">\n    <g id=\"xtick_1\">\n     <g id=\"line2d_1\">\n      <defs>\n       <path id=\"m7340b1e6fe\" d=\"M 0 0 \nL 0 3.5 \n\" style=\"stroke: #000000; stroke-width: 0.8\"/>\n      </defs>\n      <g>\n       <use xlink:href=\"#m7340b1e6fe\" x=\"59.060852\" y=\"273.312\" style=\"stroke: #000000; stroke-width: 0.8\"/>\n      </g>\n     </g>\n     <g id=\"text_1\">\n      <!-- 0 -->\n      <g transform=\"translate(55.879602 287.910437) scale(0.1 -0.1)\">\n       <defs>\n        <path id=\"DejaVuSans-30\" d=\"M 2034 4250 \nQ 1547 4250 1301 3770 \nQ 1056 3291 1056 2328 \nQ 1056 1369 1301 889 \nQ 1547 409 2034 409 \nQ 2525 409 2770 889 \nQ 3016 1369 3016 2328 \nQ 3016 3291 2770 3770 \nQ 2525 4250 2034 4250 \nz\nM 2034 4750 \nQ 2819 4750 3233 4129 \nQ 3647 3509 3647 2328 \nQ 3647 1150 3233 529 \nQ 2819 -91 2034 -91 \nQ 1250 -91 836 529 \nQ 422 1150 422 2328 \nQ 422 3509 836 4129 \nQ 1250 4750 2034 4750 \nz\n\" transform=\"scale(0.015625)\"/>\n       </defs>\n       <use xlink:href=\"#DejaVuSans-30\"/>\n      </g>\n     </g>\n    </g>\n    <g id=\"xtick_2\">\n     <g id=\"line2d_2\">\n      <g>\n       <use xlink:href=\"#m7340b1e6fe\" x=\"123.991761\" y=\"273.312\" style=\"stroke: #000000; stroke-width: 0.8\"/>\n      </g>\n     </g>\n     <g id=\"text_2\">\n      <!-- 10 -->\n      <g transform=\"translate(117.629261 287.910437) scale(0.1 -0.1)\">\n       <defs>\n        <path id=\"DejaVuSans-31\" d=\"M 794 531 \nL 1825 531 \nL 1825 4091 \nL 703 3866 \nL 703 4441 \nL 1819 4666 \nL 2450 4666 \nL 2450 531 \nL 3481 531 \nL 3481 0 \nL 794 0 \nL 794 531 \nz\n\" transform=\"scale(0.015625)\"/>\n       </defs>\n       <use xlink:href=\"#DejaVuSans-31\"/>\n       <use xlink:href=\"#DejaVuSans-30\" x=\"63.623047\"/>\n      </g>\n     </g>\n    </g>\n    <g id=\"xtick_3\">\n     <g id=\"line2d_3\">\n      <g>\n       <use xlink:href=\"#m7340b1e6fe\" x=\"188.92267\" y=\"273.312\" style=\"stroke: #000000; stroke-width: 0.8\"/>\n      </g>\n     </g>\n     <g id=\"text_3\">\n      <!-- 20 -->\n      <g transform=\"translate(182.56017 287.910437) scale(0.1 -0.1)\">\n       <defs>\n        <path id=\"DejaVuSans-32\" d=\"M 1228 531 \nL 3431 531 \nL 3431 0 \nL 469 0 \nL 469 531 \nQ 828 903 1448 1529 \nQ 2069 2156 2228 2338 \nQ 2531 2678 2651 2914 \nQ 2772 3150 2772 3378 \nQ 2772 3750 2511 3984 \nQ 2250 4219 1831 4219 \nQ 1534 4219 1204 4116 \nQ 875 4013 500 3803 \nL 500 4441 \nQ 881 4594 1212 4672 \nQ 1544 4750 1819 4750 \nQ 2544 4750 2975 4387 \nQ 3406 4025 3406 3419 \nQ 3406 3131 3298 2873 \nQ 3191 2616 2906 2266 \nQ 2828 2175 2409 1742 \nQ 1991 1309 1228 531 \nz\n\" transform=\"scale(0.015625)\"/>\n       </defs>\n       <use xlink:href=\"#DejaVuSans-32\"/>\n       <use xlink:href=\"#DejaVuSans-30\" x=\"63.623047\"/>\n      </g>\n     </g>\n    </g>\n    <g id=\"xtick_4\">\n     <g id=\"line2d_4\">\n      <g>\n       <use xlink:href=\"#m7340b1e6fe\" x=\"253.85358\" y=\"273.312\" style=\"stroke: #000000; stroke-width: 0.8\"/>\n      </g>\n     </g>\n     <g id=\"text_4\">\n      <!-- 30 -->\n      <g transform=\"translate(247.49108 287.910437) scale(0.1 -0.1)\">\n       <defs>\n        <path id=\"DejaVuSans-33\" d=\"M 2597 2516 \nQ 3050 2419 3304 2112 \nQ 3559 1806 3559 1356 \nQ 3559 666 3084 287 \nQ 2609 -91 1734 -91 \nQ 1441 -91 1130 -33 \nQ 819 25 488 141 \nL 488 750 \nQ 750 597 1062 519 \nQ 1375 441 1716 441 \nQ 2309 441 2620 675 \nQ 2931 909 2931 1356 \nQ 2931 1769 2642 2001 \nQ 2353 2234 1838 2234 \nL 1294 2234 \nL 1294 2753 \nL 1863 2753 \nQ 2328 2753 2575 2939 \nQ 2822 3125 2822 3475 \nQ 2822 3834 2567 4026 \nQ 2313 4219 1838 4219 \nQ 1578 4219 1281 4162 \nQ 984 4106 628 3988 \nL 628 4550 \nQ 988 4650 1302 4700 \nQ 1616 4750 1894 4750 \nQ 2613 4750 3031 4423 \nQ 3450 4097 3450 3541 \nQ 3450 3153 3228 2886 \nQ 3006 2619 2597 2516 \nz\n\" transform=\"scale(0.015625)\"/>\n       </defs>\n       <use xlink:href=\"#DejaVuSans-33\"/>\n       <use xlink:href=\"#DejaVuSans-30\" x=\"63.623047\"/>\n      </g>\n     </g>\n    </g>\n    <g id=\"xtick_5\">\n     <g id=\"line2d_5\">\n      <g>\n       <use xlink:href=\"#m7340b1e6fe\" x=\"318.784489\" y=\"273.312\" style=\"stroke: #000000; stroke-width: 0.8\"/>\n      </g>\n     </g>\n     <g id=\"text_5\">\n      <!-- 40 -->\n      <g transform=\"translate(312.421989 287.910437) scale(0.1 -0.1)\">\n       <defs>\n        <path id=\"DejaVuSans-34\" d=\"M 2419 4116 \nL 825 1625 \nL 2419 1625 \nL 2419 4116 \nz\nM 2253 4666 \nL 3047 4666 \nL 3047 1625 \nL 3713 1625 \nL 3713 1100 \nL 3047 1100 \nL 3047 0 \nL 2419 0 \nL 2419 1100 \nL 313 1100 \nL 313 1709 \nL 2253 4666 \nz\n\" transform=\"scale(0.015625)\"/>\n       </defs>\n       <use xlink:href=\"#DejaVuSans-34\"/>\n       <use xlink:href=\"#DejaVuSans-30\" x=\"63.623047\"/>\n      </g>\n     </g>\n    </g>\n    <g id=\"xtick_6\">\n     <g id=\"line2d_6\">\n      <g>\n       <use xlink:href=\"#m7340b1e6fe\" x=\"383.715398\" y=\"273.312\" style=\"stroke: #000000; stroke-width: 0.8\"/>\n      </g>\n     </g>\n     <g id=\"text_6\">\n      <!-- 50 -->\n      <g transform=\"translate(377.352898 287.910437) scale(0.1 -0.1)\">\n       <defs>\n        <path id=\"DejaVuSans-35\" d=\"M 691 4666 \nL 3169 4666 \nL 3169 4134 \nL 1269 4134 \nL 1269 2991 \nQ 1406 3038 1543 3061 \nQ 1681 3084 1819 3084 \nQ 2600 3084 3056 2656 \nQ 3513 2228 3513 1497 \nQ 3513 744 3044 326 \nQ 2575 -91 1722 -91 \nQ 1428 -91 1123 -41 \nQ 819 9 494 109 \nL 494 744 \nQ 775 591 1075 516 \nQ 1375 441 1709 441 \nQ 2250 441 2565 725 \nQ 2881 1009 2881 1497 \nQ 2881 1984 2565 2268 \nQ 2250 2553 1709 2553 \nQ 1456 2553 1204 2497 \nQ 953 2441 691 2322 \nL 691 4666 \nz\n\" transform=\"scale(0.015625)\"/>\n       </defs>\n       <use xlink:href=\"#DejaVuSans-35\"/>\n       <use xlink:href=\"#DejaVuSans-30\" x=\"63.623047\"/>\n      </g>\n     </g>\n    </g>\n   </g>\n   <g id=\"matplotlib.axis_2\">\n    <g id=\"ytick_1\">\n     <g id=\"line2d_7\">\n      <defs>\n       <path id=\"me32af742c9\" d=\"M 0 0 \nL -3.5 0 \n\" style=\"stroke: #000000; stroke-width: 0.8\"/>\n      </defs>\n      <g>\n       <use xlink:href=\"#me32af742c9\" x=\"42.828125\" y=\"259.580848\" style=\"stroke: #000000; stroke-width: 0.8\"/>\n      </g>\n     </g>\n     <g id=\"text_7\">\n      <!-- 0.050 -->\n      <g transform=\"translate(7.2 263.380067) scale(0.1 -0.1)\">\n       <defs>\n        <path id=\"DejaVuSans-2e\" d=\"M 684 794 \nL 1344 794 \nL 1344 0 \nL 684 0 \nL 684 794 \nz\n\" transform=\"scale(0.015625)\"/>\n       </defs>\n       <use xlink:href=\"#DejaVuSans-30\"/>\n       <use xlink:href=\"#DejaVuSans-2e\" x=\"63.623047\"/>\n       <use xlink:href=\"#DejaVuSans-30\" x=\"95.410156\"/>\n       <use xlink:href=\"#DejaVuSans-35\" x=\"159.033203\"/>\n       <use xlink:href=\"#DejaVuSans-30\" x=\"222.65625\"/>\n      </g>\n     </g>\n    </g>\n    <g id=\"ytick_2\">\n     <g id=\"line2d_8\">\n      <g>\n       <use xlink:href=\"#me32af742c9\" x=\"42.828125\" y=\"226.133134\" style=\"stroke: #000000; stroke-width: 0.8\"/>\n      </g>\n     </g>\n     <g id=\"text_8\">\n      <!-- 0.075 -->\n      <g transform=\"translate(7.2 229.932352) scale(0.1 -0.1)\">\n       <defs>\n        <path id=\"DejaVuSans-37\" d=\"M 525 4666 \nL 3525 4666 \nL 3525 4397 \nL 1831 0 \nL 1172 0 \nL 2766 4134 \nL 525 4134 \nL 525 4666 \nz\n\" transform=\"scale(0.015625)\"/>\n       </defs>\n       <use xlink:href=\"#DejaVuSans-30\"/>\n       <use xlink:href=\"#DejaVuSans-2e\" x=\"63.623047\"/>\n       <use xlink:href=\"#DejaVuSans-30\" x=\"95.410156\"/>\n       <use xlink:href=\"#DejaVuSans-37\" x=\"159.033203\"/>\n       <use xlink:href=\"#DejaVuSans-35\" x=\"222.65625\"/>\n      </g>\n     </g>\n    </g>\n    <g id=\"ytick_3\">\n     <g id=\"line2d_9\">\n      <g>\n       <use xlink:href=\"#me32af742c9\" x=\"42.828125\" y=\"192.685419\" style=\"stroke: #000000; stroke-width: 0.8\"/>\n      </g>\n     </g>\n     <g id=\"text_9\">\n      <!-- 0.100 -->\n      <g transform=\"translate(7.2 196.484638) scale(0.1 -0.1)\">\n       <use xlink:href=\"#DejaVuSans-30\"/>\n       <use xlink:href=\"#DejaVuSans-2e\" x=\"63.623047\"/>\n       <use xlink:href=\"#DejaVuSans-31\" x=\"95.410156\"/>\n       <use xlink:href=\"#DejaVuSans-30\" x=\"159.033203\"/>\n       <use xlink:href=\"#DejaVuSans-30\" x=\"222.65625\"/>\n      </g>\n     </g>\n    </g>\n    <g id=\"ytick_4\">\n     <g id=\"line2d_10\">\n      <g>\n       <use xlink:href=\"#me32af742c9\" x=\"42.828125\" y=\"159.237705\" style=\"stroke: #000000; stroke-width: 0.8\"/>\n      </g>\n     </g>\n     <g id=\"text_10\">\n      <!-- 0.125 -->\n      <g transform=\"translate(7.2 163.036924) scale(0.1 -0.1)\">\n       <use xlink:href=\"#DejaVuSans-30\"/>\n       <use xlink:href=\"#DejaVuSans-2e\" x=\"63.623047\"/>\n       <use xlink:href=\"#DejaVuSans-31\" x=\"95.410156\"/>\n       <use xlink:href=\"#DejaVuSans-32\" x=\"159.033203\"/>\n       <use xlink:href=\"#DejaVuSans-35\" x=\"222.65625\"/>\n      </g>\n     </g>\n    </g>\n    <g id=\"ytick_5\">\n     <g id=\"line2d_11\">\n      <g>\n       <use xlink:href=\"#me32af742c9\" x=\"42.828125\" y=\"125.78999\" style=\"stroke: #000000; stroke-width: 0.8\"/>\n      </g>\n     </g>\n     <g id=\"text_11\">\n      <!-- 0.150 -->\n      <g transform=\"translate(7.2 129.589209) scale(0.1 -0.1)\">\n       <use xlink:href=\"#DejaVuSans-30\"/>\n       <use xlink:href=\"#DejaVuSans-2e\" x=\"63.623047\"/>\n       <use xlink:href=\"#DejaVuSans-31\" x=\"95.410156\"/>\n       <use xlink:href=\"#DejaVuSans-35\" x=\"159.033203\"/>\n       <use xlink:href=\"#DejaVuSans-30\" x=\"222.65625\"/>\n      </g>\n     </g>\n    </g>\n    <g id=\"ytick_6\">\n     <g id=\"line2d_12\">\n      <g>\n       <use xlink:href=\"#me32af742c9\" x=\"42.828125\" y=\"92.342276\" style=\"stroke: #000000; stroke-width: 0.8\"/>\n      </g>\n     </g>\n     <g id=\"text_12\">\n      <!-- 0.175 -->\n      <g transform=\"translate(7.2 96.141495) scale(0.1 -0.1)\">\n       <use xlink:href=\"#DejaVuSans-30\"/>\n       <use xlink:href=\"#DejaVuSans-2e\" x=\"63.623047\"/>\n       <use xlink:href=\"#DejaVuSans-31\" x=\"95.410156\"/>\n       <use xlink:href=\"#DejaVuSans-37\" x=\"159.033203\"/>\n       <use xlink:href=\"#DejaVuSans-35\" x=\"222.65625\"/>\n      </g>\n     </g>\n    </g>\n    <g id=\"ytick_7\">\n     <g id=\"line2d_13\">\n      <g>\n       <use xlink:href=\"#me32af742c9\" x=\"42.828125\" y=\"58.894562\" style=\"stroke: #000000; stroke-width: 0.8\"/>\n      </g>\n     </g>\n     <g id=\"text_13\">\n      <!-- 0.200 -->\n      <g transform=\"translate(7.2 62.69378) scale(0.1 -0.1)\">\n       <use xlink:href=\"#DejaVuSans-30\"/>\n       <use xlink:href=\"#DejaVuSans-2e\" x=\"63.623047\"/>\n       <use xlink:href=\"#DejaVuSans-32\" x=\"95.410156\"/>\n       <use xlink:href=\"#DejaVuSans-30\" x=\"159.033203\"/>\n       <use xlink:href=\"#DejaVuSans-30\" x=\"222.65625\"/>\n      </g>\n     </g>\n    </g>\n    <g id=\"ytick_8\">\n     <g id=\"line2d_14\">\n      <g>\n       <use xlink:href=\"#me32af742c9\" x=\"42.828125\" y=\"25.446847\" style=\"stroke: #000000; stroke-width: 0.8\"/>\n      </g>\n     </g>\n     <g id=\"text_14\">\n      <!-- 0.225 -->\n      <g transform=\"translate(7.2 29.246066) scale(0.1 -0.1)\">\n       <use xlink:href=\"#DejaVuSans-30\"/>\n       <use xlink:href=\"#DejaVuSans-2e\" x=\"63.623047\"/>\n       <use xlink:href=\"#DejaVuSans-32\" x=\"95.410156\"/>\n       <use xlink:href=\"#DejaVuSans-32\" x=\"159.033203\"/>\n       <use xlink:href=\"#DejaVuSans-35\" x=\"222.65625\"/>\n      </g>\n     </g>\n    </g>\n   </g>\n   <g id=\"line2d_15\">\n    <path d=\"M 59.060852 19.296 \nL 65.553943 101.708596 \nL 72.047034 124.053622 \nL 78.540125 154.989559 \nL 85.033216 167.570329 \nL 91.526307 172.676228 \nL 98.019398 192.554495 \nL 104.512489 194.52761 \nL 111.00558 191.224568 \nL 117.49867 203.542636 \nL 123.991761 202.987029 \nL 130.484852 207.518681 \nL 136.977943 214.714621 \nL 143.471034 210.077796 \nL 149.964125 211.889894 \nL 156.457216 221.850803 \nL 162.950307 219.412363 \nL 169.443398 217.516671 \nL 175.936489 224.729777 \nL 182.42958 223.442773 \nL 188.92267 229.027754 \nL 195.415761 234.255963 \nL 201.908852 233.026077 \nL 208.401943 231.832944 \nL 214.895034 231.431226 \nL 221.388125 238.900375 \nL 227.881216 239.677475 \nL 234.374307 235.296075 \nL 240.867398 233.629701 \nL 247.360489 236.037449 \nL 253.85358 246.995063 \nL 260.34667 238.910014 \nL 266.839761 245.049959 \nL 273.332852 245.171606 \nL 279.825943 252.956642 \nL 286.319034 241.219994 \nL 292.812125 248.099863 \nL 299.305216 247.228857 \nL 305.798307 244.778849 \nL 312.291398 245.860074 \nL 318.784489 252.78497 \nL 325.27758 251.016487 \nL 331.77067 257.572445 \nL 338.263761 251.278148 \nL 344.756852 249.706318 \nL 351.249943 252.450153 \nL 357.743034 254.773635 \nL 364.236125 253.428367 \nL 370.729216 250.73029 \nL 377.222307 261.216 \nL 383.715398 259.748771 \n\" clip-path=\"url(#p0dd4e40a38)\" style=\"fill: none; stroke: #1f77b4; stroke-width: 1.5; stroke-linecap: square\"/>\n   </g>\n   <g id=\"line2d_16\">\n    <path d=\"M 59.060852 29.903396 \nL 65.553943 139.384089 \nL 72.047034 159.960808 \nL 78.540125 191.303636 \nL 85.033216 201.643875 \nL 91.526307 198.658021 \nL 98.019398 189.197197 \nL 104.512489 207.325806 \nL 111.00558 206.158102 \nL 117.49867 211.251431 \nL 123.991761 206.228318 \nL 130.484852 217.528135 \nL 136.977943 208.641678 \nL 143.471034 219.0967 \nL 149.964125 221.486794 \nL 156.457216 211.316723 \nL 162.950307 212.811334 \nL 169.443398 221.970561 \nL 175.936489 224.772082 \nL 182.42958 222.334031 \nL 188.92267 228.835667 \nL 195.415761 219.034598 \nL 201.908852 224.67551 \nL 208.401943 233.134192 \nL 214.895034 228.799512 \nL 221.388125 226.458033 \nL 227.881216 228.531906 \nL 234.374307 212.140734 \nL 240.867398 229.738437 \nL 247.360489 230.486958 \nL 253.85358 237.258264 \nL 260.34667 240.139431 \nL 266.839761 237.864021 \nL 273.332852 229.43033 \nL 279.825943 232.318714 \nL 286.319034 231.961713 \nL 292.812125 225.779727 \nL 299.305216 228.811235 \nL 305.798307 231.940551 \nL 312.291398 221.907193 \nL 318.784489 228.805613 \nL 325.27758 231.877502 \nL 331.77067 231.377876 \nL 338.263761 228.585984 \nL 344.756852 232.848364 \nL 351.249943 237.797214 \nL 357.743034 229.460962 \nL 364.236125 239.013962 \nL 370.729216 228.881002 \nL 377.222307 226.321309 \nL 383.715398 233.953867 \n\" clip-path=\"url(#p0dd4e40a38)\" style=\"fill: none; stroke: #ff7f0e; stroke-width: 1.5; stroke-linecap: square\"/>\n   </g>\n   <g id=\"patch_3\">\n    <path d=\"M 42.828125 273.312 \nL 42.828125 7.2 \n\" style=\"fill: none; stroke: #000000; stroke-width: 0.8; stroke-linejoin: miter; stroke-linecap: square\"/>\n   </g>\n   <g id=\"patch_4\">\n    <path d=\"M 399.948125 273.312 \nL 399.948125 7.2 \n\" style=\"fill: none; stroke: #000000; stroke-width: 0.8; stroke-linejoin: miter; stroke-linecap: square\"/>\n   </g>\n   <g id=\"patch_5\">\n    <path d=\"M 42.828125 273.312 \nL 399.948125 273.312 \n\" style=\"fill: none; stroke: #000000; stroke-width: 0.8; stroke-linejoin: miter; stroke-linecap: square\"/>\n   </g>\n   <g id=\"patch_6\">\n    <path d=\"M 42.828125 7.2 \nL 399.948125 7.2 \n\" style=\"fill: none; stroke: #000000; stroke-width: 0.8; stroke-linejoin: miter; stroke-linecap: square\"/>\n   </g>\n   <g id=\"legend_1\">\n    <g id=\"patch_7\">\n     <path d=\"M 321.8075 44.834375 \nL 392.948125 44.834375 \nQ 394.948125 44.834375 394.948125 42.834375 \nL 394.948125 14.2 \nQ 394.948125 12.2 392.948125 12.2 \nL 321.8075 12.2 \nQ 319.8075 12.2 319.8075 14.2 \nL 319.8075 42.834375 \nQ 319.8075 44.834375 321.8075 44.834375 \nz\n\" style=\"fill: #ffffff; opacity: 0.8; stroke: #cccccc; stroke-linejoin: miter\"/>\n    </g>\n    <g id=\"line2d_17\">\n     <path d=\"M 323.8075 20.298437 \nL 333.8075 20.298437 \nL 343.8075 20.298437 \n\" style=\"fill: none; stroke: #1f77b4; stroke-width: 1.5; stroke-linecap: square\"/>\n    </g>\n    <g id=\"text_15\">\n     <!-- loss -->\n     <g transform=\"translate(351.8075 23.798437) scale(0.1 -0.1)\">\n      <defs>\n       <path id=\"DejaVuSans-6c\" d=\"M 603 4863 \nL 1178 4863 \nL 1178 0 \nL 603 0 \nL 603 4863 \nz\n\" transform=\"scale(0.015625)\"/>\n       <path id=\"DejaVuSans-6f\" d=\"M 1959 3097 \nQ 1497 3097 1228 2736 \nQ 959 2375 959 1747 \nQ 959 1119 1226 758 \nQ 1494 397 1959 397 \nQ 2419 397 2687 759 \nQ 2956 1122 2956 1747 \nQ 2956 2369 2687 2733 \nQ 2419 3097 1959 3097 \nz\nM 1959 3584 \nQ 2709 3584 3137 3096 \nQ 3566 2609 3566 1747 \nQ 3566 888 3137 398 \nQ 2709 -91 1959 -91 \nQ 1206 -91 779 398 \nQ 353 888 353 1747 \nQ 353 2609 779 3096 \nQ 1206 3584 1959 3584 \nz\n\" transform=\"scale(0.015625)\"/>\n       <path id=\"DejaVuSans-73\" d=\"M 2834 3397 \nL 2834 2853 \nQ 2591 2978 2328 3040 \nQ 2066 3103 1784 3103 \nQ 1356 3103 1142 2972 \nQ 928 2841 928 2578 \nQ 928 2378 1081 2264 \nQ 1234 2150 1697 2047 \nL 1894 2003 \nQ 2506 1872 2764 1633 \nQ 3022 1394 3022 966 \nQ 3022 478 2636 193 \nQ 2250 -91 1575 -91 \nQ 1294 -91 989 -36 \nQ 684 19 347 128 \nL 347 722 \nQ 666 556 975 473 \nQ 1284 391 1588 391 \nQ 1994 391 2212 530 \nQ 2431 669 2431 922 \nQ 2431 1156 2273 1281 \nQ 2116 1406 1581 1522 \nL 1381 1569 \nQ 847 1681 609 1914 \nQ 372 2147 372 2553 \nQ 372 3047 722 3315 \nQ 1072 3584 1716 3584 \nQ 2034 3584 2315 3537 \nQ 2597 3491 2834 3397 \nz\n\" transform=\"scale(0.015625)\"/>\n      </defs>\n      <use xlink:href=\"#DejaVuSans-6c\"/>\n      <use xlink:href=\"#DejaVuSans-6f\" x=\"27.783203\"/>\n      <use xlink:href=\"#DejaVuSans-73\" x=\"88.964844\"/>\n      <use xlink:href=\"#DejaVuSans-73\" x=\"141.064453\"/>\n     </g>\n    </g>\n    <g id=\"line2d_18\">\n     <path d=\"M 323.8075 34.976562 \nL 333.8075 34.976562 \nL 343.8075 34.976562 \n\" style=\"fill: none; stroke: #ff7f0e; stroke-width: 1.5; stroke-linecap: square\"/>\n    </g>\n    <g id=\"text_16\">\n     <!-- val_loss -->\n     <g transform=\"translate(351.8075 38.476562) scale(0.1 -0.1)\">\n      <defs>\n       <path id=\"DejaVuSans-76\" d=\"M 191 3500 \nL 800 3500 \nL 1894 563 \nL 2988 3500 \nL 3597 3500 \nL 2284 0 \nL 1503 0 \nL 191 3500 \nz\n\" transform=\"scale(0.015625)\"/>\n       <path id=\"DejaVuSans-61\" d=\"M 2194 1759 \nQ 1497 1759 1228 1600 \nQ 959 1441 959 1056 \nQ 959 750 1161 570 \nQ 1363 391 1709 391 \nQ 2188 391 2477 730 \nQ 2766 1069 2766 1631 \nL 2766 1759 \nL 2194 1759 \nz\nM 3341 1997 \nL 3341 0 \nL 2766 0 \nL 2766 531 \nQ 2569 213 2275 61 \nQ 1981 -91 1556 -91 \nQ 1019 -91 701 211 \nQ 384 513 384 1019 \nQ 384 1609 779 1909 \nQ 1175 2209 1959 2209 \nL 2766 2209 \nL 2766 2266 \nQ 2766 2663 2505 2880 \nQ 2244 3097 1772 3097 \nQ 1472 3097 1187 3025 \nQ 903 2953 641 2809 \nL 641 3341 \nQ 956 3463 1253 3523 \nQ 1550 3584 1831 3584 \nQ 2591 3584 2966 3190 \nQ 3341 2797 3341 1997 \nz\n\" transform=\"scale(0.015625)\"/>\n       <path id=\"DejaVuSans-5f\" d=\"M 3263 -1063 \nL 3263 -1509 \nL -63 -1509 \nL -63 -1063 \nL 3263 -1063 \nz\n\" transform=\"scale(0.015625)\"/>\n      </defs>\n      <use xlink:href=\"#DejaVuSans-76\"/>\n      <use xlink:href=\"#DejaVuSans-61\" x=\"59.179688\"/>\n      <use xlink:href=\"#DejaVuSans-6c\" x=\"120.458984\"/>\n      <use xlink:href=\"#DejaVuSans-5f\" x=\"148.242188\"/>\n      <use xlink:href=\"#DejaVuSans-6c\" x=\"198.242188\"/>\n      <use xlink:href=\"#DejaVuSans-6f\" x=\"226.025391\"/>\n      <use xlink:href=\"#DejaVuSans-73\" x=\"287.207031\"/>\n      <use xlink:href=\"#DejaVuSans-73\" x=\"339.306641\"/>\n     </g>\n    </g>\n   </g>\n  </g>\n </g>\n <defs>\n  <clipPath id=\"p0dd4e40a38\">\n   <rect x=\"42.828125\" y=\"7.2\" width=\"357.12\" height=\"266.112\"/>\n  </clipPath>\n </defs>\n</svg>\n",
      "text/plain": [
       "<Figure size 640x480 with 1 Axes>"
      ]
     },
     "metadata": {},
     "output_type": "display_data"
    }
   ],
   "source": [
    "history_df = pd.DataFrame(history.history)\n",
    "history_df.loc[0:, ['loss', 'val_loss']].plot()\n",
    "history_df.loc[0:, ['binary_accuracy', 'val_binary_accuracy']].plot()\n",
    "print(history_df)\n",
    "print(f\"Best Validation Loss: {history_df['val_loss'].min()}\" +\\\n",
    "      f\"\\nBest Validation Accuracy: {history_df['val_binary_accuracy'].max()}\"+\\\n",
    "      f\"\\nBest Recall: {history_df['val_recall'].max()}\" +\\\n",
    "      f\"\\nBest Precision: {history_df['val_precision'].max()}\"\n",
    ")"
   ]
  },
  {
   "cell_type": "code",
   "execution_count": 81,
   "id": "7821e49d",
   "metadata": {},
   "outputs": [
    {
     "name": "stdout",
     "output_type": "stream",
     "text": [
      "87/87 [==============================] - 1s 3ms/step\n"
     ]
    },
    {
     "data": {
      "text/plain": [
       "array([[9.9999803e-01],\n",
       "       [1.0937914e-01],\n",
       "       [3.0320922e-07],\n",
       "       ...,\n",
       "       [9.9998569e-01],\n",
       "       [1.0000000e+00],\n",
       "       [9.9792695e-01]], dtype=float32)"
      ]
     },
     "execution_count": 81,
     "metadata": {},
     "output_type": "execute_result"
    }
   ],
   "source": [
    "predictions = model.predict(X_test)\n",
    "predictions"
   ]
  },
  {
   "cell_type": "code",
   "execution_count": 82,
   "id": "63178c1e",
   "metadata": {},
   "outputs": [],
   "source": [
    "predictions = (predictions > 0.5)*1"
   ]
  },
  {
   "cell_type": "code",
   "execution_count": 89,
   "id": "8ab27d35",
   "metadata": {},
   "outputs": [
    {
     "name": "stdout",
     "output_type": "stream",
     "text": [
      "[[1190   35]\n",
      " [  36 1503]]\n",
      "2.857142857142857 2.3391812865497075\n"
     ]
    },
    {
     "data": {
      "text/plain": [
       "0.9743125904486252"
      ]
     },
     "execution_count": 89,
     "metadata": {},
     "output_type": "execute_result"
    }
   ],
   "source": [
    "cm = CM(y_test,predictions)\n",
    "print(cm)\n",
    "FPR = (cm[0][1]/(cm[0][0] + cm[0][1]))*100\n",
    "FFR = (cm[1][0]/(cm[1][0]+cm[1][1]))*100\n",
    "print(FPR,FFR)\n",
    "AS(y_test,predictions)"
   ]
  },
  {
   "cell_type": "markdown",
   "id": "31ec7aa1",
   "metadata": {},
   "source": [
    "### ***Genetic Algorithm***"
   ]
  },
  {
   "cell_type": "code",
   "execution_count": null,
   "id": "ff8dc99c",
   "metadata": {},
   "outputs": [],
   "source": []
  },
  {
   "cell_type": "code",
   "execution_count": null,
   "id": "605cf605",
   "metadata": {},
   "outputs": [],
   "source": []
  },
  {
   "cell_type": "code",
   "execution_count": null,
   "id": "936390a9",
   "metadata": {},
   "outputs": [],
   "source": []
  }
 ],
 "metadata": {
  "kernelspec": {
   "display_name": "Python 3.10.6 64-bit",
   "language": "python",
   "name": "python3"
  },
  "language_info": {
   "codemirror_mode": {
    "name": "ipython",
    "version": 3
   },
   "file_extension": ".py",
   "mimetype": "text/x-python",
   "name": "python",
   "nbconvert_exporter": "python",
   "pygments_lexer": "ipython3",
   "version": "3.10.6"
  },
  "vscode": {
   "interpreter": {
    "hash": "37a27d0e5b469d6519fba8d674fca678a9e423d1818ec628dd8efc12286d08bf"
   }
  }
 },
 "nbformat": 4,
 "nbformat_minor": 5
}
